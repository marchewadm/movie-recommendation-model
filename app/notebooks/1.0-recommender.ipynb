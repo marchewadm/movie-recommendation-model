{
 "cells": [
  {
   "metadata": {},
   "cell_type": "markdown",
   "source": [
    "# Movie Recommender System\n",
    "## Data Citation\n",
    "### The MovieLens dataset used in this notebook is provided by GroupLens Research at the University of Minnesota.\n",
    "F. Maxwell Harper and Joseph A. Konstan. 2015. The MovieLens Datasets: History and Context. ACM Transactions on Interactive Intelligent Systems (TiiS) 5, 4: 19:1–19:19. https://doi.org/10.1145/2827872\n",
    "\n",
    "## Where to Get the Dataset\n",
    "\n",
    "### Smaller Version\n",
    "\n",
    "A smaller version of the dataset (suitable for quick experiments and local development) is available at:\n",
    "[ml-latest-small.zip](https://files.grouplens.org/datasets/movielens/ml-latest-small.zip)\n",
    "\n",
    "### Larger Version\n",
    "\n",
    "As of the time of writing, the most recent and largest version of the dataset is available at:\n",
    "[ml-32m.zip](https://files.grouplens.org/datasets/movielens/ml-32m.zip)\n",
    "\n",
    "## How to Use the Dataset\n",
    "\n",
    "1. Download one of the dataset versions above.\n",
    "2. Unzip the file into the `data/raw/` directory of this repository.\n",
    "3. After extraction, you should see the following files:\n",
    "    - `movies.csv`\n",
    "    - `ratings.csv`\n",
    "    - `links.csv`\n",
    "    - `tags.csv`\n",
    "\n",
    "## Code Style\n",
    "\n",
    "This notebook uses the [Black](https://black.readthedocs.io/en/stable/) code formatter to ensure readability and consistency across the whole codebase.\n",
    "\n",
    "All Python scripts and notebooks are formatted with `black` using default settings."
   ],
   "id": "9b6e1eb1e08050d3"
  },
  {
   "metadata": {},
   "cell_type": "markdown",
   "source": [
    "## Setting Up Project and Data Paths\n",
    "\n",
    "Define the directory structure and file paths used in this notebook."
   ],
   "id": "b62510207738af05"
  },
  {
   "metadata": {
    "ExecuteTime": {
     "end_time": "2025-06-15T16:56:08.754700Z",
     "start_time": "2025-06-15T16:56:08.751135Z"
    }
   },
   "cell_type": "code",
   "source": [
    "import os\n",
    "\n",
    "\n",
    "NOTEBOOK_DIR = os.path.dirname(os.path.abspath(\"__file__\"))\n",
    "PROJECT_DIR = os.path.abspath(os.path.join(NOTEBOOK_DIR, \"../..\"))  # app/notebooks\n",
    "RAW_DATA_DIRECTORY = os.path.join(PROJECT_DIR, \"app/data/raw\")\n",
    "\n",
    "MOVIES_CSV_PATH = os.path.join(RAW_DATA_DIRECTORY, \"movies.csv\")\n",
    "RATINGS_CSV_PATH = os.path.join(RAW_DATA_DIRECTORY, \"ratings.csv\")\n",
    "LINKS_CSV_PATH = os.path.join(RAW_DATA_DIRECTORY, \"links.csv\")\n",
    "TAGS_CSV_PATH = os.path.join(RAW_DATA_DIRECTORY, \"tags.csv\")"
   ],
   "id": "initial_id",
   "outputs": [],
   "execution_count": 1
  },
  {
   "metadata": {
    "ExecuteTime": {
     "end_time": "2025-06-15T16:56:08.905441Z",
     "start_time": "2025-06-15T16:56:08.902728Z"
    }
   },
   "cell_type": "code",
   "source": [
    "def verify_dataset_files_exist() -> None:\n",
    "    \"\"\"Checks if all required MovieLens dataset files exist.\n",
    "\n",
    "    Returns:\n",
    "        None\n",
    "    \"\"\"\n",
    "\n",
    "    required_files = {\n",
    "        \"movies.csv\": MOVIES_CSV_PATH,\n",
    "        \"ratings.csv\": RATINGS_CSV_PATH,\n",
    "        \"links.csv\": LINKS_CSV_PATH,\n",
    "        \"tags.csv\": TAGS_CSV_PATH,\n",
    "    }\n",
    "\n",
    "    missing_files = [\n",
    "        name for name, path in required_files.items() if not os.path.isfile(path)\n",
    "    ]\n",
    "\n",
    "    if missing_files:\n",
    "        raise FileNotFoundError(\n",
    "            f\"Missing required dataset files: {', '.join(missing_files)}\"\n",
    "        )"
   ],
   "id": "71e557b996d780e7",
   "outputs": [],
   "execution_count": 2
  },
  {
   "metadata": {
    "ExecuteTime": {
     "end_time": "2025-06-15T16:56:08.952200Z",
     "start_time": "2025-06-15T16:56:08.949787Z"
    }
   },
   "cell_type": "code",
   "source": "verify_dataset_files_exist()",
   "id": "23fd7e4b186040e6",
   "outputs": [],
   "execution_count": 3
  },
  {
   "metadata": {},
   "cell_type": "markdown",
   "source": [
    "## Loading and Exploring Raw Data\n",
    "\n",
    "Load the MovieLens dataset files into Pandas DataFrames and display the first few rows of each to verify that the data was read correctly."
   ],
   "id": "8c3099979e70b4d"
  },
  {
   "metadata": {
    "ExecuteTime": {
     "end_time": "2025-06-15T16:56:09.273469Z",
     "start_time": "2025-06-15T16:56:08.998852Z"
    }
   },
   "cell_type": "code",
   "source": [
    "import pandas as pd\n",
    "\n",
    "\n",
    "movies_df = pd.read_csv(MOVIES_CSV_PATH)\n",
    "ratings_df = pd.read_csv(RATINGS_CSV_PATH)\n",
    "links_df = pd.read_csv(LINKS_CSV_PATH)\n",
    "tags_df = pd.read_csv(TAGS_CSV_PATH)"
   ],
   "id": "6286b342d5e966ec",
   "outputs": [],
   "execution_count": 4
  },
  {
   "metadata": {},
   "cell_type": "markdown",
   "source": "### Movies Dataset",
   "id": "7fb57fb08ebfe21a"
  },
  {
   "metadata": {
    "ExecuteTime": {
     "end_time": "2025-06-15T16:56:09.299994Z",
     "start_time": "2025-06-15T16:56:09.288025Z"
    }
   },
   "cell_type": "code",
   "source": "movies_df.head()",
   "id": "9fa850e631ccaefe",
   "outputs": [
    {
     "data": {
      "text/plain": [
       "   movieId                               title  \\\n",
       "0        1                    Toy Story (1995)   \n",
       "1        2                      Jumanji (1995)   \n",
       "2        3             Grumpier Old Men (1995)   \n",
       "3        4            Waiting to Exhale (1995)   \n",
       "4        5  Father of the Bride Part II (1995)   \n",
       "\n",
       "                                        genres  \n",
       "0  Adventure|Animation|Children|Comedy|Fantasy  \n",
       "1                   Adventure|Children|Fantasy  \n",
       "2                               Comedy|Romance  \n",
       "3                         Comedy|Drama|Romance  \n",
       "4                                       Comedy  "
      ],
      "text/html": [
       "<div>\n",
       "<style scoped>\n",
       "    .dataframe tbody tr th:only-of-type {\n",
       "        vertical-align: middle;\n",
       "    }\n",
       "\n",
       "    .dataframe tbody tr th {\n",
       "        vertical-align: top;\n",
       "    }\n",
       "\n",
       "    .dataframe thead th {\n",
       "        text-align: right;\n",
       "    }\n",
       "</style>\n",
       "<table border=\"1\" class=\"dataframe\">\n",
       "  <thead>\n",
       "    <tr style=\"text-align: right;\">\n",
       "      <th></th>\n",
       "      <th>movieId</th>\n",
       "      <th>title</th>\n",
       "      <th>genres</th>\n",
       "    </tr>\n",
       "  </thead>\n",
       "  <tbody>\n",
       "    <tr>\n",
       "      <th>0</th>\n",
       "      <td>1</td>\n",
       "      <td>Toy Story (1995)</td>\n",
       "      <td>Adventure|Animation|Children|Comedy|Fantasy</td>\n",
       "    </tr>\n",
       "    <tr>\n",
       "      <th>1</th>\n",
       "      <td>2</td>\n",
       "      <td>Jumanji (1995)</td>\n",
       "      <td>Adventure|Children|Fantasy</td>\n",
       "    </tr>\n",
       "    <tr>\n",
       "      <th>2</th>\n",
       "      <td>3</td>\n",
       "      <td>Grumpier Old Men (1995)</td>\n",
       "      <td>Comedy|Romance</td>\n",
       "    </tr>\n",
       "    <tr>\n",
       "      <th>3</th>\n",
       "      <td>4</td>\n",
       "      <td>Waiting to Exhale (1995)</td>\n",
       "      <td>Comedy|Drama|Romance</td>\n",
       "    </tr>\n",
       "    <tr>\n",
       "      <th>4</th>\n",
       "      <td>5</td>\n",
       "      <td>Father of the Bride Part II (1995)</td>\n",
       "      <td>Comedy</td>\n",
       "    </tr>\n",
       "  </tbody>\n",
       "</table>\n",
       "</div>"
      ]
     },
     "execution_count": 5,
     "metadata": {},
     "output_type": "execute_result"
    }
   ],
   "execution_count": 5
  },
  {
   "metadata": {},
   "cell_type": "markdown",
   "source": "### Ratings Dataset",
   "id": "37abf30315debb66"
  },
  {
   "metadata": {
    "ExecuteTime": {
     "end_time": "2025-06-15T16:56:09.370468Z",
     "start_time": "2025-06-15T16:56:09.365350Z"
    }
   },
   "cell_type": "code",
   "source": "ratings_df.head()",
   "id": "682aebb593990100",
   "outputs": [
    {
     "data": {
      "text/plain": [
       "   userId  movieId  rating  timestamp\n",
       "0       1        1     4.0  964982703\n",
       "1       1        3     4.0  964981247\n",
       "2       1        6     4.0  964982224\n",
       "3       1       47     5.0  964983815\n",
       "4       1       50     5.0  964982931"
      ],
      "text/html": [
       "<div>\n",
       "<style scoped>\n",
       "    .dataframe tbody tr th:only-of-type {\n",
       "        vertical-align: middle;\n",
       "    }\n",
       "\n",
       "    .dataframe tbody tr th {\n",
       "        vertical-align: top;\n",
       "    }\n",
       "\n",
       "    .dataframe thead th {\n",
       "        text-align: right;\n",
       "    }\n",
       "</style>\n",
       "<table border=\"1\" class=\"dataframe\">\n",
       "  <thead>\n",
       "    <tr style=\"text-align: right;\">\n",
       "      <th></th>\n",
       "      <th>userId</th>\n",
       "      <th>movieId</th>\n",
       "      <th>rating</th>\n",
       "      <th>timestamp</th>\n",
       "    </tr>\n",
       "  </thead>\n",
       "  <tbody>\n",
       "    <tr>\n",
       "      <th>0</th>\n",
       "      <td>1</td>\n",
       "      <td>1</td>\n",
       "      <td>4.0</td>\n",
       "      <td>964982703</td>\n",
       "    </tr>\n",
       "    <tr>\n",
       "      <th>1</th>\n",
       "      <td>1</td>\n",
       "      <td>3</td>\n",
       "      <td>4.0</td>\n",
       "      <td>964981247</td>\n",
       "    </tr>\n",
       "    <tr>\n",
       "      <th>2</th>\n",
       "      <td>1</td>\n",
       "      <td>6</td>\n",
       "      <td>4.0</td>\n",
       "      <td>964982224</td>\n",
       "    </tr>\n",
       "    <tr>\n",
       "      <th>3</th>\n",
       "      <td>1</td>\n",
       "      <td>47</td>\n",
       "      <td>5.0</td>\n",
       "      <td>964983815</td>\n",
       "    </tr>\n",
       "    <tr>\n",
       "      <th>4</th>\n",
       "      <td>1</td>\n",
       "      <td>50</td>\n",
       "      <td>5.0</td>\n",
       "      <td>964982931</td>\n",
       "    </tr>\n",
       "  </tbody>\n",
       "</table>\n",
       "</div>"
      ]
     },
     "execution_count": 6,
     "metadata": {},
     "output_type": "execute_result"
    }
   ],
   "execution_count": 6
  },
  {
   "metadata": {},
   "cell_type": "markdown",
   "source": "### Links Dataset",
   "id": "9dee3d4554e851b3"
  },
  {
   "metadata": {
    "ExecuteTime": {
     "end_time": "2025-06-15T16:56:09.486292Z",
     "start_time": "2025-06-15T16:56:09.480914Z"
    }
   },
   "cell_type": "code",
   "source": "links_df.head()",
   "id": "5a326b74829c1ca8",
   "outputs": [
    {
     "data": {
      "text/plain": [
       "   movieId  imdbId   tmdbId\n",
       "0        1  114709    862.0\n",
       "1        2  113497   8844.0\n",
       "2        3  113228  15602.0\n",
       "3        4  114885  31357.0\n",
       "4        5  113041  11862.0"
      ],
      "text/html": [
       "<div>\n",
       "<style scoped>\n",
       "    .dataframe tbody tr th:only-of-type {\n",
       "        vertical-align: middle;\n",
       "    }\n",
       "\n",
       "    .dataframe tbody tr th {\n",
       "        vertical-align: top;\n",
       "    }\n",
       "\n",
       "    .dataframe thead th {\n",
       "        text-align: right;\n",
       "    }\n",
       "</style>\n",
       "<table border=\"1\" class=\"dataframe\">\n",
       "  <thead>\n",
       "    <tr style=\"text-align: right;\">\n",
       "      <th></th>\n",
       "      <th>movieId</th>\n",
       "      <th>imdbId</th>\n",
       "      <th>tmdbId</th>\n",
       "    </tr>\n",
       "  </thead>\n",
       "  <tbody>\n",
       "    <tr>\n",
       "      <th>0</th>\n",
       "      <td>1</td>\n",
       "      <td>114709</td>\n",
       "      <td>862.0</td>\n",
       "    </tr>\n",
       "    <tr>\n",
       "      <th>1</th>\n",
       "      <td>2</td>\n",
       "      <td>113497</td>\n",
       "      <td>8844.0</td>\n",
       "    </tr>\n",
       "    <tr>\n",
       "      <th>2</th>\n",
       "      <td>3</td>\n",
       "      <td>113228</td>\n",
       "      <td>15602.0</td>\n",
       "    </tr>\n",
       "    <tr>\n",
       "      <th>3</th>\n",
       "      <td>4</td>\n",
       "      <td>114885</td>\n",
       "      <td>31357.0</td>\n",
       "    </tr>\n",
       "    <tr>\n",
       "      <th>4</th>\n",
       "      <td>5</td>\n",
       "      <td>113041</td>\n",
       "      <td>11862.0</td>\n",
       "    </tr>\n",
       "  </tbody>\n",
       "</table>\n",
       "</div>"
      ]
     },
     "execution_count": 7,
     "metadata": {},
     "output_type": "execute_result"
    }
   ],
   "execution_count": 7
  },
  {
   "metadata": {},
   "cell_type": "markdown",
   "source": "### Tags Dataset",
   "id": "9ecd36b6a8de04ae"
  },
  {
   "metadata": {
    "ExecuteTime": {
     "end_time": "2025-06-15T16:56:09.779302Z",
     "start_time": "2025-06-15T16:56:09.771975Z"
    }
   },
   "cell_type": "code",
   "source": "tags_df.head()",
   "id": "46256372a783af8",
   "outputs": [
    {
     "data": {
      "text/plain": [
       "   userId  movieId              tag   timestamp\n",
       "0       2    60756            funny  1445714994\n",
       "1       2    60756  Highly quotable  1445714996\n",
       "2       2    60756     will ferrell  1445714992\n",
       "3       2    89774     Boxing story  1445715207\n",
       "4       2    89774              MMA  1445715200"
      ],
      "text/html": [
       "<div>\n",
       "<style scoped>\n",
       "    .dataframe tbody tr th:only-of-type {\n",
       "        vertical-align: middle;\n",
       "    }\n",
       "\n",
       "    .dataframe tbody tr th {\n",
       "        vertical-align: top;\n",
       "    }\n",
       "\n",
       "    .dataframe thead th {\n",
       "        text-align: right;\n",
       "    }\n",
       "</style>\n",
       "<table border=\"1\" class=\"dataframe\">\n",
       "  <thead>\n",
       "    <tr style=\"text-align: right;\">\n",
       "      <th></th>\n",
       "      <th>userId</th>\n",
       "      <th>movieId</th>\n",
       "      <th>tag</th>\n",
       "      <th>timestamp</th>\n",
       "    </tr>\n",
       "  </thead>\n",
       "  <tbody>\n",
       "    <tr>\n",
       "      <th>0</th>\n",
       "      <td>2</td>\n",
       "      <td>60756</td>\n",
       "      <td>funny</td>\n",
       "      <td>1445714994</td>\n",
       "    </tr>\n",
       "    <tr>\n",
       "      <th>1</th>\n",
       "      <td>2</td>\n",
       "      <td>60756</td>\n",
       "      <td>Highly quotable</td>\n",
       "      <td>1445714996</td>\n",
       "    </tr>\n",
       "    <tr>\n",
       "      <th>2</th>\n",
       "      <td>2</td>\n",
       "      <td>60756</td>\n",
       "      <td>will ferrell</td>\n",
       "      <td>1445714992</td>\n",
       "    </tr>\n",
       "    <tr>\n",
       "      <th>3</th>\n",
       "      <td>2</td>\n",
       "      <td>89774</td>\n",
       "      <td>Boxing story</td>\n",
       "      <td>1445715207</td>\n",
       "    </tr>\n",
       "    <tr>\n",
       "      <th>4</th>\n",
       "      <td>2</td>\n",
       "      <td>89774</td>\n",
       "      <td>MMA</td>\n",
       "      <td>1445715200</td>\n",
       "    </tr>\n",
       "  </tbody>\n",
       "</table>\n",
       "</div>"
      ]
     },
     "execution_count": 8,
     "metadata": {},
     "output_type": "execute_result"
    }
   ],
   "execution_count": 8
  },
  {
   "metadata": {},
   "cell_type": "markdown",
   "source": [
    "## Exploratory Data Visualization\n",
    "\n",
    "Visualize key characteristics and distributions of the MovieLens datasets to better understand the data structure."
   ],
   "id": "6b406d9edb44a4c7"
  },
  {
   "metadata": {
    "ExecuteTime": {
     "end_time": "2025-06-15T16:56:10.864678Z",
     "start_time": "2025-06-15T16:56:10.016486Z"
    }
   },
   "cell_type": "code",
   "source": "import matplotlib.pyplot as plt",
   "id": "7f2e4f41d6b4b171",
   "outputs": [],
   "execution_count": 9
  },
  {
   "metadata": {},
   "cell_type": "markdown",
   "source": [
    "### Movie Genre Popularity\n",
    "\n",
    "Shows the number of movies per genre in the dataset."
   ],
   "id": "219b2c1ccfc1e9ff"
  },
  {
   "metadata": {
    "ExecuteTime": {
     "end_time": "2025-06-15T16:56:11.084118Z",
     "start_time": "2025-06-15T16:56:10.897259Z"
    }
   },
   "cell_type": "code",
   "source": [
    "genre_counts = movies_df[\"genres\"].str.split(\"|\").explode().value_counts()\n",
    "\n",
    "plt.barh(genre_counts.index, genre_counts.values, color=\"red\")\n",
    "plt.title(\"Movie Genre Popularity\")\n",
    "plt.xlabel(\"Number of movies\")\n",
    "plt.ylabel(\"Genre\")\n",
    "plt.gca().invert_yaxis()\n",
    "plt.show()"
   ],
   "id": "f66245f153b903b9",
   "outputs": [
    {
     "data": {
      "text/plain": [
       "<Figure size 640x480 with 1 Axes>"
      ],
      "image/png": "[encoded data removed]"
     },
     "metadata": {},
     "output_type": "display_data"
    }
   ],
   "execution_count": 10
  },
  {
   "metadata": {},
   "cell_type": "markdown",
   "source": [
    "### Distribution of Movie Ratings\n",
    "\n",
    "Shows how often each rating score appears in the dataset."
   ],
   "id": "c3b344708e19bfdc"
  },
  {
   "metadata": {
    "ExecuteTime": {
     "end_time": "2025-06-15T16:56:11.261934Z",
     "start_time": "2025-06-15T16:56:11.136910Z"
    }
   },
   "cell_type": "code",
   "source": [
    "ratings_df[\"rating\"].hist(color=\"red\", edgecolor=\"black\")\n",
    "\n",
    "plt.title(\"Distribution of Movie Ratings\")\n",
    "plt.xlabel(\"Rating\")\n",
    "plt.ylabel(\"Number of Ratings\")\n",
    "plt.grid(False)\n",
    "plt.show()"
   ],
   "id": "38c8c496e255c18c",
   "outputs": [
    {
     "data": {
      "text/plain": [
       "<Figure size 640x480 with 1 Axes>"
      ],
      "image/png": "[encoded data removed]"
     },
     "metadata": {},
     "output_type": "display_data"
    }
   ],
   "execution_count": 11
  },
  {
   "metadata": {},
   "cell_type": "markdown",
   "source": [
    "### Number of Ratings per Movie\n",
    "\n",
    "Shows how many ratings movies have in the dataset."
   ],
   "id": "2c9258dbf70dd828"
  },
  {
   "metadata": {
    "ExecuteTime": {
     "end_time": "2025-06-15T16:56:11.391144Z",
     "start_time": "2025-06-15T16:56:11.274190Z"
    }
   },
   "cell_type": "code",
   "source": [
    "ratings_per_movie = ratings_df[\"movieId\"].value_counts()\n",
    "ratings_per_movie.hist(bins=20, color=\"red\")\n",
    "\n",
    "plt.title(\"Number of Ratings per Movie\")\n",
    "plt.xlabel(\"Number of Ratings\")\n",
    "plt.ylabel(\"Number of Movies\")\n",
    "plt.show()"
   ],
   "id": "961b800ae0a16f6c",
   "outputs": [
    {
     "data": {
      "text/plain": [
       "<Figure size 640x480 with 1 Axes>"
      ],
      "image/png": "[encoded data removed]"
     },
     "metadata": {},
     "output_type": "display_data"
    }
   ],
   "execution_count": 12
  },
  {
   "metadata": {},
   "cell_type": "markdown",
   "source": [
    "### Distribution of Number of Ratings per User\n",
    "\n",
    "Shows number of users grouped by amount of ratings they have given."
   ],
   "id": "7e2ac65238d5eed3"
  },
  {
   "metadata": {
    "ExecuteTime": {
     "end_time": "2025-06-15T16:56:11.567516Z",
     "start_time": "2025-06-15T16:56:11.403657Z"
    }
   },
   "cell_type": "code",
   "source": [
    "ratings_per_user = ratings_df[\"userId\"].value_counts()\n",
    "ratings_per_user.hist(bins=100, color=\"red\")\n",
    "\n",
    "plt.title(\"Distribution of Number of Ratings per User\")\n",
    "plt.xlabel(\"Number of Ratings\")\n",
    "plt.ylabel(\"Number of Users\")\n",
    "plt.show()"
   ],
   "id": "e9c7bbd77e9ca6cf",
   "outputs": [
    {
     "data": {
      "text/plain": [
       "<Figure size 640x480 with 1 Axes>"
      ],
      "image/png": "[encoded data removed]"
     },
     "metadata": {},
     "output_type": "display_data"
    }
   ],
   "execution_count": 13
  },
  {
   "metadata": {},
   "cell_type": "markdown",
   "source": [
    "### Top 10 Most Rated Movies\n",
    "\n",
    "Shows movies with the greatest user rating activity."
   ],
   "id": "dd0bf3059c834ad"
  },
  {
   "metadata": {
    "ExecuteTime": {
     "end_time": "2025-06-15T16:56:11.702470Z",
     "start_time": "2025-06-15T16:56:11.581103Z"
    }
   },
   "cell_type": "code",
   "source": [
    "top_movies = ratings_df[\"movieId\"].value_counts().head(10)\n",
    "top_movies_titles = movies_df.set_index(\"movieId\").loc[top_movies.index][\"title\"]\n",
    "\n",
    "plt.barh(top_movies_titles[::-1], top_movies.values[::-1], color=\"red\")\n",
    "plt.title(\"Top 10 Most Rated Movies\")\n",
    "plt.xlabel(\"Number of Ratings\")\n",
    "plt.tight_layout()\n",
    "plt.show()"
   ],
   "id": "1a97808238f628e0",
   "outputs": [
    {
     "data": {
      "text/plain": [
       "<Figure size 640x480 with 1 Axes>"
      ],
      "image/png": "[encoded data removed]"
     },
     "metadata": {},
     "output_type": "display_data"
    }
   ],
   "execution_count": 14
  },
  {
   "metadata": {},
   "cell_type": "markdown",
   "source": [
    "### Top 10 Highest Rated Movies\n",
    "\n",
    "Shows 10 top-rated movies, filtered by minimum number of ratings.\n",
    "\n",
    "To avoid displaying movies with very few ratings but a perfect score (e.g., only one rating of 5.0), a constant MIN_RATINGS is set to filter out less reliable results."
   ],
   "id": "785062b14761e18b"
  },
  {
   "metadata": {
    "ExecuteTime": {
     "end_time": "2025-06-15T16:56:11.830910Z",
     "start_time": "2025-06-15T16:56:11.720740Z"
    }
   },
   "cell_type": "code",
   "source": [
    "MIN_RATINGS = 100\n",
    "\n",
    "\n",
    "movie_stats = ratings_df.groupby(\"movieId\").agg({\"rating\": [\"mean\", \"count\"]})\n",
    "movie_stats.columns = [\"mean_rating\", \"rating_count\"]\n",
    "\n",
    "popular_movies = movie_stats[movie_stats[\"rating_count\"] >= MIN_RATINGS]\n",
    "\n",
    "top10_movies = popular_movies.sort_values(\"mean_rating\", ascending=False).head(10)\n",
    "\n",
    "top10_movies = top10_movies.merge(\n",
    "    movies_df[[\"movieId\", \"title\"]], left_index=True, right_on=\"movieId\"\n",
    ")\n",
    "\n",
    "plt.barh(top10_movies[\"title\"], top10_movies[\"mean_rating\"], color=\"red\")\n",
    "plt.xlabel(\"Average Rating\")\n",
    "plt.title(f\"Top 10 Highest Rated Movies (min {MIN_RATINGS} ratings)\")\n",
    "plt.gca().invert_yaxis()\n",
    "plt.show()"
   ],
   "id": "5a58b7b3da53c4e7",
   "outputs": [
    {
     "data": {
      "text/plain": [
       "<Figure size 640x480 with 1 Axes>"
      ],
      "image/png": "[encoded data removed]"
     },
     "metadata": {},
     "output_type": "display_data"
    }
   ],
   "execution_count": 15
  },
  {
   "metadata": {},
   "cell_type": "markdown",
   "source": [
    "### Top 10 Most Used Tags\n",
    "\n",
    "Shows tags with the highest number of uses by users."
   ],
   "id": "a22151ec5d2e4579"
  },
  {
   "metadata": {
    "ExecuteTime": {
     "end_time": "2025-06-15T16:56:11.948849Z",
     "start_time": "2025-06-15T16:56:11.847465Z"
    }
   },
   "cell_type": "code",
   "source": [
    "tag_counts = tags_df[\"tag\"].value_counts().head(10)\n",
    "\n",
    "plt.barh(tag_counts.index, tag_counts.values, color=\"red\")\n",
    "plt.title(\"Top 10 Most Used Tags\")\n",
    "plt.xlabel(\"Number of Uses\")\n",
    "plt.ylabel(\"Tag\")\n",
    "plt.gca().invert_yaxis()\n",
    "plt.show()"
   ],
   "id": "cb96392b1321e2b7",
   "outputs": [
    {
     "data": {
      "text/plain": [
       "<Figure size 640x480 with 1 Axes>"
      ],
      "image/png": "[encoded data removed]"
     },
     "metadata": {},
     "output_type": "display_data"
    }
   ],
   "execution_count": 16
  },
  {
   "metadata": {},
   "cell_type": "markdown",
   "source": [
    "## Cleaning the Data\n",
    "\n",
    "Performing basic data cleaning before further operations. This includes removing unnecessary characters and columns."
   ],
   "id": "ab1640984ec5c553"
  },
  {
   "metadata": {
    "ExecuteTime": {
     "end_time": "2025-06-15T16:56:11.969908Z",
     "start_time": "2025-06-15T16:56:11.967440Z"
    }
   },
   "cell_type": "code",
   "source": [
    "def drop_parenthesis(string: str) -> str:\n",
    "    \"\"\"Removes all parentheses from the input string.\n",
    "\n",
    "    Args:\n",
    "        string (str):\n",
    "            A string potentially containing \"(\" and/or \")\".\n",
    "\n",
    "    Returns:\n",
    "        str:\n",
    "            A copy of the input string with all \"(\" and \")\" characters removed.\n",
    "    \"\"\"\n",
    "\n",
    "    return string.replace(\"(\", \"\").replace(\")\", \"\")"
   ],
   "id": "5790af8d669985e2",
   "outputs": [],
   "execution_count": 17
  },
  {
   "metadata": {},
   "cell_type": "markdown",
   "source": [
    "### Cleaning Movie Titles\n",
    "\n",
    "Remove parentheses from movie titles to simplify the text."
   ],
   "id": "c0496c937ead37f3"
  },
  {
   "metadata": {
    "ExecuteTime": {
     "end_time": "2025-06-15T16:56:12.028580Z",
     "start_time": "2025-06-15T16:56:12.022700Z"
    }
   },
   "cell_type": "code",
   "source": "movies_df[\"title\"] = movies_df[\"title\"].apply(drop_parenthesis)",
   "id": "efbc9f351438c4e",
   "outputs": [],
   "execution_count": 18
  },
  {
   "metadata": {
    "ExecuteTime": {
     "end_time": "2025-06-15T16:56:12.088099Z",
     "start_time": "2025-06-15T16:56:12.081289Z"
    }
   },
   "cell_type": "code",
   "source": "movies_df.head()",
   "id": "983b80f1120ba61d",
   "outputs": [
    {
     "data": {
      "text/plain": [
       "   movieId                             title  \\\n",
       "0        1                    Toy Story 1995   \n",
       "1        2                      Jumanji 1995   \n",
       "2        3             Grumpier Old Men 1995   \n",
       "3        4            Waiting to Exhale 1995   \n",
       "4        5  Father of the Bride Part II 1995   \n",
       "\n",
       "                                        genres  \n",
       "0  Adventure|Animation|Children|Comedy|Fantasy  \n",
       "1                   Adventure|Children|Fantasy  \n",
       "2                               Comedy|Romance  \n",
       "3                         Comedy|Drama|Romance  \n",
       "4                                       Comedy  "
      ],
      "text/html": [
       "<div>\n",
       "<style scoped>\n",
       "    .dataframe tbody tr th:only-of-type {\n",
       "        vertical-align: middle;\n",
       "    }\n",
       "\n",
       "    .dataframe tbody tr th {\n",
       "        vertical-align: top;\n",
       "    }\n",
       "\n",
       "    .dataframe thead th {\n",
       "        text-align: right;\n",
       "    }\n",
       "</style>\n",
       "<table border=\"1\" class=\"dataframe\">\n",
       "  <thead>\n",
       "    <tr style=\"text-align: right;\">\n",
       "      <th></th>\n",
       "      <th>movieId</th>\n",
       "      <th>title</th>\n",
       "      <th>genres</th>\n",
       "    </tr>\n",
       "  </thead>\n",
       "  <tbody>\n",
       "    <tr>\n",
       "      <th>0</th>\n",
       "      <td>1</td>\n",
       "      <td>Toy Story 1995</td>\n",
       "      <td>Adventure|Animation|Children|Comedy|Fantasy</td>\n",
       "    </tr>\n",
       "    <tr>\n",
       "      <th>1</th>\n",
       "      <td>2</td>\n",
       "      <td>Jumanji 1995</td>\n",
       "      <td>Adventure|Children|Fantasy</td>\n",
       "    </tr>\n",
       "    <tr>\n",
       "      <th>2</th>\n",
       "      <td>3</td>\n",
       "      <td>Grumpier Old Men 1995</td>\n",
       "      <td>Comedy|Romance</td>\n",
       "    </tr>\n",
       "    <tr>\n",
       "      <th>3</th>\n",
       "      <td>4</td>\n",
       "      <td>Waiting to Exhale 1995</td>\n",
       "      <td>Comedy|Drama|Romance</td>\n",
       "    </tr>\n",
       "    <tr>\n",
       "      <th>4</th>\n",
       "      <td>5</td>\n",
       "      <td>Father of the Bride Part II 1995</td>\n",
       "      <td>Comedy</td>\n",
       "    </tr>\n",
       "  </tbody>\n",
       "</table>\n",
       "</div>"
      ]
     },
     "execution_count": 19,
     "metadata": {},
     "output_type": "execute_result"
    }
   ],
   "execution_count": 19
  },
  {
   "metadata": {},
   "cell_type": "markdown",
   "source": [
    "### Removing Timestamps and User IDs\n",
    "\n",
    "Remove the `timestamp` column from both the ratings and tags datasets, and remove `userId` from tags, as it is unnecessary for further analysis."
   ],
   "id": "825b5f611058b706"
  },
  {
   "metadata": {
    "ExecuteTime": {
     "end_time": "2025-06-15T16:56:12.176318Z",
     "start_time": "2025-06-15T16:56:12.173468Z"
    }
   },
   "cell_type": "code",
   "source": "ratings_df = ratings_df.drop(\"timestamp\", axis=1)",
   "id": "add360b67ace9804",
   "outputs": [],
   "execution_count": 20
  },
  {
   "metadata": {
    "ExecuteTime": {
     "end_time": "2025-06-15T16:56:12.247933Z",
     "start_time": "2025-06-15T16:56:12.242510Z"
    }
   },
   "cell_type": "code",
   "source": "ratings_df.head()",
   "id": "df9defaea3870233",
   "outputs": [
    {
     "data": {
      "text/plain": [
       "   userId  movieId  rating\n",
       "0       1        1     4.0\n",
       "1       1        3     4.0\n",
       "2       1        6     4.0\n",
       "3       1       47     5.0\n",
       "4       1       50     5.0"
      ],
      "text/html": [
       "<div>\n",
       "<style scoped>\n",
       "    .dataframe tbody tr th:only-of-type {\n",
       "        vertical-align: middle;\n",
       "    }\n",
       "\n",
       "    .dataframe tbody tr th {\n",
       "        vertical-align: top;\n",
       "    }\n",
       "\n",
       "    .dataframe thead th {\n",
       "        text-align: right;\n",
       "    }\n",
       "</style>\n",
       "<table border=\"1\" class=\"dataframe\">\n",
       "  <thead>\n",
       "    <tr style=\"text-align: right;\">\n",
       "      <th></th>\n",
       "      <th>userId</th>\n",
       "      <th>movieId</th>\n",
       "      <th>rating</th>\n",
       "    </tr>\n",
       "  </thead>\n",
       "  <tbody>\n",
       "    <tr>\n",
       "      <th>0</th>\n",
       "      <td>1</td>\n",
       "      <td>1</td>\n",
       "      <td>4.0</td>\n",
       "    </tr>\n",
       "    <tr>\n",
       "      <th>1</th>\n",
       "      <td>1</td>\n",
       "      <td>3</td>\n",
       "      <td>4.0</td>\n",
       "    </tr>\n",
       "    <tr>\n",
       "      <th>2</th>\n",
       "      <td>1</td>\n",
       "      <td>6</td>\n",
       "      <td>4.0</td>\n",
       "    </tr>\n",
       "    <tr>\n",
       "      <th>3</th>\n",
       "      <td>1</td>\n",
       "      <td>47</td>\n",
       "      <td>5.0</td>\n",
       "    </tr>\n",
       "    <tr>\n",
       "      <th>4</th>\n",
       "      <td>1</td>\n",
       "      <td>50</td>\n",
       "      <td>5.0</td>\n",
       "    </tr>\n",
       "  </tbody>\n",
       "</table>\n",
       "</div>"
      ]
     },
     "execution_count": 21,
     "metadata": {},
     "output_type": "execute_result"
    }
   ],
   "execution_count": 21
  },
  {
   "metadata": {
    "ExecuteTime": {
     "end_time": "2025-06-15T16:56:12.371101Z",
     "start_time": "2025-06-15T16:56:12.368397Z"
    }
   },
   "cell_type": "code",
   "source": "tags_df = tags_df.drop([\"timestamp\", \"userId\"], axis=1)",
   "id": "9e1df073a1078af9",
   "outputs": [],
   "execution_count": 22
  },
  {
   "metadata": {
    "ExecuteTime": {
     "end_time": "2025-06-15T16:56:12.525020Z",
     "start_time": "2025-06-15T16:56:12.520521Z"
    }
   },
   "cell_type": "code",
   "source": "tags_df.head()",
   "id": "ac93a18c075f4a0",
   "outputs": [
    {
     "data": {
      "text/plain": [
       "   movieId              tag\n",
       "0    60756            funny\n",
       "1    60756  Highly quotable\n",
       "2    60756     will ferrell\n",
       "3    89774     Boxing story\n",
       "4    89774              MMA"
      ],
      "text/html": [
       "<div>\n",
       "<style scoped>\n",
       "    .dataframe tbody tr th:only-of-type {\n",
       "        vertical-align: middle;\n",
       "    }\n",
       "\n",
       "    .dataframe tbody tr th {\n",
       "        vertical-align: top;\n",
       "    }\n",
       "\n",
       "    .dataframe thead th {\n",
       "        text-align: right;\n",
       "    }\n",
       "</style>\n",
       "<table border=\"1\" class=\"dataframe\">\n",
       "  <thead>\n",
       "    <tr style=\"text-align: right;\">\n",
       "      <th></th>\n",
       "      <th>movieId</th>\n",
       "      <th>tag</th>\n",
       "    </tr>\n",
       "  </thead>\n",
       "  <tbody>\n",
       "    <tr>\n",
       "      <th>0</th>\n",
       "      <td>60756</td>\n",
       "      <td>funny</td>\n",
       "    </tr>\n",
       "    <tr>\n",
       "      <th>1</th>\n",
       "      <td>60756</td>\n",
       "      <td>Highly quotable</td>\n",
       "    </tr>\n",
       "    <tr>\n",
       "      <th>2</th>\n",
       "      <td>60756</td>\n",
       "      <td>will ferrell</td>\n",
       "    </tr>\n",
       "    <tr>\n",
       "      <th>3</th>\n",
       "      <td>89774</td>\n",
       "      <td>Boxing story</td>\n",
       "    </tr>\n",
       "    <tr>\n",
       "      <th>4</th>\n",
       "      <td>89774</td>\n",
       "      <td>MMA</td>\n",
       "    </tr>\n",
       "  </tbody>\n",
       "</table>\n",
       "</div>"
      ]
     },
     "execution_count": 23,
     "metadata": {},
     "output_type": "execute_result"
    }
   ],
   "execution_count": 23
  },
  {
   "metadata": {},
   "cell_type": "markdown",
   "source": [
    "### Cleaning Links\n",
    "\n",
    "Drop the `imdbId` column and convert `tmdbId` column to `Int64` type."
   ],
   "id": "6e8b369a5ec6688f"
  },
  {
   "metadata": {
    "ExecuteTime": {
     "end_time": "2025-06-15T16:56:12.647614Z",
     "start_time": "2025-06-15T16:56:12.642362Z"
    }
   },
   "cell_type": "code",
   "source": [
    "links_df = links_df.drop(\"imdbId\", axis=1)\n",
    "links_df[\"tmdbId\"] = links_df[\"tmdbId\"].astype(\"Int64\")"
   ],
   "id": "6ea1c8256960996e",
   "outputs": [],
   "execution_count": 24
  },
  {
   "metadata": {
    "ExecuteTime": {
     "end_time": "2025-06-15T16:56:12.787218Z",
     "start_time": "2025-06-15T16:56:12.782599Z"
    }
   },
   "cell_type": "code",
   "source": "links_df.head()",
   "id": "14659aa3129ac122",
   "outputs": [
    {
     "data": {
      "text/plain": [
       "   movieId  tmdbId\n",
       "0        1     862\n",
       "1        2    8844\n",
       "2        3   15602\n",
       "3        4   31357\n",
       "4        5   11862"
      ],
      "text/html": [
       "<div>\n",
       "<style scoped>\n",
       "    .dataframe tbody tr th:only-of-type {\n",
       "        vertical-align: middle;\n",
       "    }\n",
       "\n",
       "    .dataframe tbody tr th {\n",
       "        vertical-align: top;\n",
       "    }\n",
       "\n",
       "    .dataframe thead th {\n",
       "        text-align: right;\n",
       "    }\n",
       "</style>\n",
       "<table border=\"1\" class=\"dataframe\">\n",
       "  <thead>\n",
       "    <tr style=\"text-align: right;\">\n",
       "      <th></th>\n",
       "      <th>movieId</th>\n",
       "      <th>tmdbId</th>\n",
       "    </tr>\n",
       "  </thead>\n",
       "  <tbody>\n",
       "    <tr>\n",
       "      <th>0</th>\n",
       "      <td>1</td>\n",
       "      <td>862</td>\n",
       "    </tr>\n",
       "    <tr>\n",
       "      <th>1</th>\n",
       "      <td>2</td>\n",
       "      <td>8844</td>\n",
       "    </tr>\n",
       "    <tr>\n",
       "      <th>2</th>\n",
       "      <td>3</td>\n",
       "      <td>15602</td>\n",
       "    </tr>\n",
       "    <tr>\n",
       "      <th>3</th>\n",
       "      <td>4</td>\n",
       "      <td>31357</td>\n",
       "    </tr>\n",
       "    <tr>\n",
       "      <th>4</th>\n",
       "      <td>5</td>\n",
       "      <td>11862</td>\n",
       "    </tr>\n",
       "  </tbody>\n",
       "</table>\n",
       "</div>"
      ]
     },
     "execution_count": 25,
     "metadata": {},
     "output_type": "execute_result"
    }
   ],
   "execution_count": 25
  },
  {
   "metadata": {},
   "cell_type": "markdown",
   "source": "## Combining Data",
   "id": "1f93aef514ab04ae"
  },
  {
   "metadata": {},
   "cell_type": "markdown",
   "source": [
    "### Grouping Tags\n",
    "\n",
    "To support future recommendations, all user-provided tags for each movie have been grouped into a single field.\n",
    "\n",
    "For example, if `movieId = 1` had two separate tags - `funny` and `animation` — they are now combined into one string: `funny animation` in the new `tags` column."
   ],
   "id": "1cef2f46c1bd2e1a"
  },
  {
   "metadata": {
    "ExecuteTime": {
     "end_time": "2025-06-15T16:56:12.919562Z",
     "start_time": "2025-06-15T16:56:12.916655Z"
    }
   },
   "cell_type": "code",
   "source": [
    "def unique_words_preserve_order(tags_series: pd.Series) -> str:\n",
    "    \"\"\"Concatenates unique words from a Series of tags while preserving their order.\n",
    "\n",
    "    This function processes a pandas Series of tag strings, removes any parentheses,\n",
    "    splits each tag into individual words, and returns a single string of unique words\n",
    "    in the order they appear.\n",
    "\n",
    "    Args:\n",
    "        tags_series (pd.Series):\n",
    "            A Series containing tag strings associated with a movie\n",
    "\n",
    "    Returns:\n",
    "        str:\n",
    "            A single space-separated string of unique words in original order.\n",
    "    \"\"\"\n",
    "\n",
    "    words = []\n",
    "    seen = set()\n",
    "\n",
    "    for tag in tags_series:\n",
    "        tag = drop_parenthesis(tag)\n",
    "\n",
    "        for word in tag.split():\n",
    "            if word not in seen:\n",
    "                seen.add(word)\n",
    "                words.append(word)\n",
    "\n",
    "    return \" \".join(words)"
   ],
   "id": "4486ece98b4d5bfb",
   "outputs": [],
   "execution_count": 26
  },
  {
   "metadata": {
    "ExecuteTime": {
     "end_time": "2025-06-15T16:56:13.025106Z",
     "start_time": "2025-06-15T16:56:12.995642Z"
    }
   },
   "cell_type": "code",
   "source": [
    "tags_df[\"tag\"] = tags_df[\"tag\"].fillna(\"\").astype(str).str.lower().str.strip()\n",
    "\n",
    "tags_df = (\n",
    "    tags_df.groupby(\"movieId\")[\"tag\"]\n",
    "    .apply(unique_words_preserve_order)\n",
    "    .reset_index()\n",
    "    .rename(columns={\"tag\": \"tags\"})\n",
    ")"
   ],
   "id": "b6fb8bf0114c6c4c",
   "outputs": [],
   "execution_count": 27
  },
  {
   "metadata": {
    "ExecuteTime": {
     "end_time": "2025-06-15T16:56:13.125263Z",
     "start_time": "2025-06-15T16:56:13.120692Z"
    }
   },
   "cell_type": "code",
   "source": "tags_df.head()",
   "id": "fa085744c1ef6fc0",
   "outputs": [
    {
     "data": {
      "text/plain": [
       "   movieId                                     tags\n",
       "0        1                                pixar fun\n",
       "1        2  fantasy magic board game robin williams\n",
       "2        3                                moldy old\n",
       "3        5                         pregnancy remake\n",
       "4        7                                   remake"
      ],
      "text/html": [
       "<div>\n",
       "<style scoped>\n",
       "    .dataframe tbody tr th:only-of-type {\n",
       "        vertical-align: middle;\n",
       "    }\n",
       "\n",
       "    .dataframe tbody tr th {\n",
       "        vertical-align: top;\n",
       "    }\n",
       "\n",
       "    .dataframe thead th {\n",
       "        text-align: right;\n",
       "    }\n",
       "</style>\n",
       "<table border=\"1\" class=\"dataframe\">\n",
       "  <thead>\n",
       "    <tr style=\"text-align: right;\">\n",
       "      <th></th>\n",
       "      <th>movieId</th>\n",
       "      <th>tags</th>\n",
       "    </tr>\n",
       "  </thead>\n",
       "  <tbody>\n",
       "    <tr>\n",
       "      <th>0</th>\n",
       "      <td>1</td>\n",
       "      <td>pixar fun</td>\n",
       "    </tr>\n",
       "    <tr>\n",
       "      <th>1</th>\n",
       "      <td>2</td>\n",
       "      <td>fantasy magic board game robin williams</td>\n",
       "    </tr>\n",
       "    <tr>\n",
       "      <th>2</th>\n",
       "      <td>3</td>\n",
       "      <td>moldy old</td>\n",
       "    </tr>\n",
       "    <tr>\n",
       "      <th>3</th>\n",
       "      <td>5</td>\n",
       "      <td>pregnancy remake</td>\n",
       "    </tr>\n",
       "    <tr>\n",
       "      <th>4</th>\n",
       "      <td>7</td>\n",
       "      <td>remake</td>\n",
       "    </tr>\n",
       "  </tbody>\n",
       "</table>\n",
       "</div>"
      ]
     },
     "execution_count": 28,
     "metadata": {},
     "output_type": "execute_result"
    }
   ],
   "execution_count": 28
  },
  {
   "metadata": {},
   "cell_type": "markdown",
   "source": [
    "### Merging Tags and Links\n",
    "\n",
    "Merge grouped tags and TMDB IDs to the movie metadata using `movieId` as the key."
   ],
   "id": "75bbcc884bc0242f"
  },
  {
   "metadata": {
    "ExecuteTime": {
     "end_time": "2025-06-15T16:56:13.229983Z",
     "start_time": "2025-06-15T16:56:13.220070Z"
    }
   },
   "cell_type": "code",
   "source": [
    "movies_df = movies_df.merge(tags_df, on=\"movieId\", how=\"left\").fillna(\"\")\n",
    "movies_df = movies_df.merge(links_df, on=\"movieId\", how=\"left\").dropna(\n",
    "    subset=[\"tmdbId\"]\n",
    ")"
   ],
   "id": "b23e2d42b1562f0b",
   "outputs": [],
   "execution_count": 29
  },
  {
   "metadata": {
    "ExecuteTime": {
     "end_time": "2025-06-15T16:56:13.293844Z",
     "start_time": "2025-06-15T16:56:13.287987Z"
    }
   },
   "cell_type": "code",
   "source": "movies_df.head()",
   "id": "d0e8a31efbb0631a",
   "outputs": [
    {
     "data": {
      "text/plain": [
       "   movieId                             title  \\\n",
       "0        1                    Toy Story 1995   \n",
       "1        2                      Jumanji 1995   \n",
       "2        3             Grumpier Old Men 1995   \n",
       "3        4            Waiting to Exhale 1995   \n",
       "4        5  Father of the Bride Part II 1995   \n",
       "\n",
       "                                        genres  \\\n",
       "0  Adventure|Animation|Children|Comedy|Fantasy   \n",
       "1                   Adventure|Children|Fantasy   \n",
       "2                               Comedy|Romance   \n",
       "3                         Comedy|Drama|Romance   \n",
       "4                                       Comedy   \n",
       "\n",
       "                                      tags  tmdbId  \n",
       "0                                pixar fun     862  \n",
       "1  fantasy magic board game robin williams    8844  \n",
       "2                                moldy old   15602  \n",
       "3                                            31357  \n",
       "4                         pregnancy remake   11862  "
      ],
      "text/html": [
       "<div>\n",
       "<style scoped>\n",
       "    .dataframe tbody tr th:only-of-type {\n",
       "        vertical-align: middle;\n",
       "    }\n",
       "\n",
       "    .dataframe tbody tr th {\n",
       "        vertical-align: top;\n",
       "    }\n",
       "\n",
       "    .dataframe thead th {\n",
       "        text-align: right;\n",
       "    }\n",
       "</style>\n",
       "<table border=\"1\" class=\"dataframe\">\n",
       "  <thead>\n",
       "    <tr style=\"text-align: right;\">\n",
       "      <th></th>\n",
       "      <th>movieId</th>\n",
       "      <th>title</th>\n",
       "      <th>genres</th>\n",
       "      <th>tags</th>\n",
       "      <th>tmdbId</th>\n",
       "    </tr>\n",
       "  </thead>\n",
       "  <tbody>\n",
       "    <tr>\n",
       "      <th>0</th>\n",
       "      <td>1</td>\n",
       "      <td>Toy Story 1995</td>\n",
       "      <td>Adventure|Animation|Children|Comedy|Fantasy</td>\n",
       "      <td>pixar fun</td>\n",
       "      <td>862</td>\n",
       "    </tr>\n",
       "    <tr>\n",
       "      <th>1</th>\n",
       "      <td>2</td>\n",
       "      <td>Jumanji 1995</td>\n",
       "      <td>Adventure|Children|Fantasy</td>\n",
       "      <td>fantasy magic board game robin williams</td>\n",
       "      <td>8844</td>\n",
       "    </tr>\n",
       "    <tr>\n",
       "      <th>2</th>\n",
       "      <td>3</td>\n",
       "      <td>Grumpier Old Men 1995</td>\n",
       "      <td>Comedy|Romance</td>\n",
       "      <td>moldy old</td>\n",
       "      <td>15602</td>\n",
       "    </tr>\n",
       "    <tr>\n",
       "      <th>3</th>\n",
       "      <td>4</td>\n",
       "      <td>Waiting to Exhale 1995</td>\n",
       "      <td>Comedy|Drama|Romance</td>\n",
       "      <td></td>\n",
       "      <td>31357</td>\n",
       "    </tr>\n",
       "    <tr>\n",
       "      <th>4</th>\n",
       "      <td>5</td>\n",
       "      <td>Father of the Bride Part II 1995</td>\n",
       "      <td>Comedy</td>\n",
       "      <td>pregnancy remake</td>\n",
       "      <td>11862</td>\n",
       "    </tr>\n",
       "  </tbody>\n",
       "</table>\n",
       "</div>"
      ]
     },
     "execution_count": 30,
     "metadata": {},
     "output_type": "execute_result"
    }
   ],
   "execution_count": 30
  },
  {
   "metadata": {},
   "cell_type": "markdown",
   "source": [
    "### Adding Rating Statistics\n",
    "\n",
    "Calculate and merge average ratings and rating counts for each movie."
   ],
   "id": "a265b73167cb16b4"
  },
  {
   "metadata": {
    "ExecuteTime": {
     "end_time": "2025-06-15T16:56:13.425718Z",
     "start_time": "2025-06-15T16:56:13.415858Z"
    }
   },
   "cell_type": "code",
   "source": [
    "average_ratings_df = (\n",
    "    ratings_df.groupby(\"movieId\")[\"rating\"]\n",
    "    .mean()\n",
    "    .reset_index()\n",
    "    .rename(columns={\"rating\": \"average_rating\"})\n",
    ")\n",
    "\n",
    "rating_counts_df = (\n",
    "    ratings_df.groupby(\"movieId\")[\"rating\"]\n",
    "    .count()\n",
    "    .reset_index()\n",
    "    .rename(columns={\"rating\": \"rating_count\"})\n",
    ")"
   ],
   "id": "29671514bdada5cf",
   "outputs": [],
   "execution_count": 31
  },
  {
   "metadata": {
    "ExecuteTime": {
     "end_time": "2025-06-15T16:56:13.570400Z",
     "start_time": "2025-06-15T16:56:13.564769Z"
    }
   },
   "cell_type": "code",
   "source": "average_ratings_df.head()",
   "id": "c7c688088d2ce86d",
   "outputs": [
    {
     "data": {
      "text/plain": [
       "   movieId  average_rating\n",
       "0        1        3.920930\n",
       "1        2        3.431818\n",
       "2        3        3.259615\n",
       "3        4        2.357143\n",
       "4        5        3.071429"
      ],
      "text/html": [
       "<div>\n",
       "<style scoped>\n",
       "    .dataframe tbody tr th:only-of-type {\n",
       "        vertical-align: middle;\n",
       "    }\n",
       "\n",
       "    .dataframe tbody tr th {\n",
       "        vertical-align: top;\n",
       "    }\n",
       "\n",
       "    .dataframe thead th {\n",
       "        text-align: right;\n",
       "    }\n",
       "</style>\n",
       "<table border=\"1\" class=\"dataframe\">\n",
       "  <thead>\n",
       "    <tr style=\"text-align: right;\">\n",
       "      <th></th>\n",
       "      <th>movieId</th>\n",
       "      <th>average_rating</th>\n",
       "    </tr>\n",
       "  </thead>\n",
       "  <tbody>\n",
       "    <tr>\n",
       "      <th>0</th>\n",
       "      <td>1</td>\n",
       "      <td>3.920930</td>\n",
       "    </tr>\n",
       "    <tr>\n",
       "      <th>1</th>\n",
       "      <td>2</td>\n",
       "      <td>3.431818</td>\n",
       "    </tr>\n",
       "    <tr>\n",
       "      <th>2</th>\n",
       "      <td>3</td>\n",
       "      <td>3.259615</td>\n",
       "    </tr>\n",
       "    <tr>\n",
       "      <th>3</th>\n",
       "      <td>4</td>\n",
       "      <td>2.357143</td>\n",
       "    </tr>\n",
       "    <tr>\n",
       "      <th>4</th>\n",
       "      <td>5</td>\n",
       "      <td>3.071429</td>\n",
       "    </tr>\n",
       "  </tbody>\n",
       "</table>\n",
       "</div>"
      ]
     },
     "execution_count": 32,
     "metadata": {},
     "output_type": "execute_result"
    }
   ],
   "execution_count": 32
  },
  {
   "metadata": {
    "ExecuteTime": {
     "end_time": "2025-06-15T16:56:13.713859Z",
     "start_time": "2025-06-15T16:56:13.708474Z"
    }
   },
   "cell_type": "code",
   "source": "rating_counts_df.head()",
   "id": "44940a1e977447a1",
   "outputs": [
    {
     "data": {
      "text/plain": [
       "   movieId  rating_count\n",
       "0        1           215\n",
       "1        2           110\n",
       "2        3            52\n",
       "3        4             7\n",
       "4        5            49"
      ],
      "text/html": [
       "<div>\n",
       "<style scoped>\n",
       "    .dataframe tbody tr th:only-of-type {\n",
       "        vertical-align: middle;\n",
       "    }\n",
       "\n",
       "    .dataframe tbody tr th {\n",
       "        vertical-align: top;\n",
       "    }\n",
       "\n",
       "    .dataframe thead th {\n",
       "        text-align: right;\n",
       "    }\n",
       "</style>\n",
       "<table border=\"1\" class=\"dataframe\">\n",
       "  <thead>\n",
       "    <tr style=\"text-align: right;\">\n",
       "      <th></th>\n",
       "      <th>movieId</th>\n",
       "      <th>rating_count</th>\n",
       "    </tr>\n",
       "  </thead>\n",
       "  <tbody>\n",
       "    <tr>\n",
       "      <th>0</th>\n",
       "      <td>1</td>\n",
       "      <td>215</td>\n",
       "    </tr>\n",
       "    <tr>\n",
       "      <th>1</th>\n",
       "      <td>2</td>\n",
       "      <td>110</td>\n",
       "    </tr>\n",
       "    <tr>\n",
       "      <th>2</th>\n",
       "      <td>3</td>\n",
       "      <td>52</td>\n",
       "    </tr>\n",
       "    <tr>\n",
       "      <th>3</th>\n",
       "      <td>4</td>\n",
       "      <td>7</td>\n",
       "    </tr>\n",
       "    <tr>\n",
       "      <th>4</th>\n",
       "      <td>5</td>\n",
       "      <td>49</td>\n",
       "    </tr>\n",
       "  </tbody>\n",
       "</table>\n",
       "</div>"
      ]
     },
     "execution_count": 33,
     "metadata": {},
     "output_type": "execute_result"
    }
   ],
   "execution_count": 33
  },
  {
   "metadata": {
    "ExecuteTime": {
     "end_time": "2025-06-15T16:56:13.892186Z",
     "start_time": "2025-06-15T16:56:13.885868Z"
    }
   },
   "cell_type": "code",
   "source": [
    "movies_df = movies_df.merge(average_ratings_df, on=\"movieId\", how=\"left\")\n",
    "movies_df = movies_df.merge(rating_counts_df, on=\"movieId\", how=\"left\")\n",
    "\n",
    "movies_df[\"average_rating\"] = movies_df[\"average_rating\"].fillna(0.0)\n",
    "movies_df[\"rating_count\"] = movies_df[\"rating_count\"].fillna(0).astype(int)"
   ],
   "id": "461ade1edab521a1",
   "outputs": [],
   "execution_count": 34
  },
  {
   "metadata": {
    "ExecuteTime": {
     "end_time": "2025-06-15T16:56:14.048200Z",
     "start_time": "2025-06-15T16:56:14.041235Z"
    }
   },
   "cell_type": "code",
   "source": "movies_df.head()",
   "id": "4c44f890c820211a",
   "outputs": [
    {
     "data": {
      "text/plain": [
       "   movieId                             title  \\\n",
       "0        1                    Toy Story 1995   \n",
       "1        2                      Jumanji 1995   \n",
       "2        3             Grumpier Old Men 1995   \n",
       "3        4            Waiting to Exhale 1995   \n",
       "4        5  Father of the Bride Part II 1995   \n",
       "\n",
       "                                        genres  \\\n",
       "0  Adventure|Animation|Children|Comedy|Fantasy   \n",
       "1                   Adventure|Children|Fantasy   \n",
       "2                               Comedy|Romance   \n",
       "3                         Comedy|Drama|Romance   \n",
       "4                                       Comedy   \n",
       "\n",
       "                                      tags  tmdbId  average_rating  \\\n",
       "0                                pixar fun     862        3.920930   \n",
       "1  fantasy magic board game robin williams    8844        3.431818   \n",
       "2                                moldy old   15602        3.259615   \n",
       "3                                            31357        2.357143   \n",
       "4                         pregnancy remake   11862        3.071429   \n",
       "\n",
       "   rating_count  \n",
       "0           215  \n",
       "1           110  \n",
       "2            52  \n",
       "3             7  \n",
       "4            49  "
      ],
      "text/html": [
       "<div>\n",
       "<style scoped>\n",
       "    .dataframe tbody tr th:only-of-type {\n",
       "        vertical-align: middle;\n",
       "    }\n",
       "\n",
       "    .dataframe tbody tr th {\n",
       "        vertical-align: top;\n",
       "    }\n",
       "\n",
       "    .dataframe thead th {\n",
       "        text-align: right;\n",
       "    }\n",
       "</style>\n",
       "<table border=\"1\" class=\"dataframe\">\n",
       "  <thead>\n",
       "    <tr style=\"text-align: right;\">\n",
       "      <th></th>\n",
       "      <th>movieId</th>\n",
       "      <th>title</th>\n",
       "      <th>genres</th>\n",
       "      <th>tags</th>\n",
       "      <th>tmdbId</th>\n",
       "      <th>average_rating</th>\n",
       "      <th>rating_count</th>\n",
       "    </tr>\n",
       "  </thead>\n",
       "  <tbody>\n",
       "    <tr>\n",
       "      <th>0</th>\n",
       "      <td>1</td>\n",
       "      <td>Toy Story 1995</td>\n",
       "      <td>Adventure|Animation|Children|Comedy|Fantasy</td>\n",
       "      <td>pixar fun</td>\n",
       "      <td>862</td>\n",
       "      <td>3.920930</td>\n",
       "      <td>215</td>\n",
       "    </tr>\n",
       "    <tr>\n",
       "      <th>1</th>\n",
       "      <td>2</td>\n",
       "      <td>Jumanji 1995</td>\n",
       "      <td>Adventure|Children|Fantasy</td>\n",
       "      <td>fantasy magic board game robin williams</td>\n",
       "      <td>8844</td>\n",
       "      <td>3.431818</td>\n",
       "      <td>110</td>\n",
       "    </tr>\n",
       "    <tr>\n",
       "      <th>2</th>\n",
       "      <td>3</td>\n",
       "      <td>Grumpier Old Men 1995</td>\n",
       "      <td>Comedy|Romance</td>\n",
       "      <td>moldy old</td>\n",
       "      <td>15602</td>\n",
       "      <td>3.259615</td>\n",
       "      <td>52</td>\n",
       "    </tr>\n",
       "    <tr>\n",
       "      <th>3</th>\n",
       "      <td>4</td>\n",
       "      <td>Waiting to Exhale 1995</td>\n",
       "      <td>Comedy|Drama|Romance</td>\n",
       "      <td></td>\n",
       "      <td>31357</td>\n",
       "      <td>2.357143</td>\n",
       "      <td>7</td>\n",
       "    </tr>\n",
       "    <tr>\n",
       "      <th>4</th>\n",
       "      <td>5</td>\n",
       "      <td>Father of the Bride Part II 1995</td>\n",
       "      <td>Comedy</td>\n",
       "      <td>pregnancy remake</td>\n",
       "      <td>11862</td>\n",
       "      <td>3.071429</td>\n",
       "      <td>49</td>\n",
       "    </tr>\n",
       "  </tbody>\n",
       "</table>\n",
       "</div>"
      ]
     },
     "execution_count": 35,
     "metadata": {},
     "output_type": "execute_result"
    }
   ],
   "execution_count": 35
  },
  {
   "metadata": {},
   "cell_type": "markdown",
   "source": [
    "### Generating Weighted Genres\n",
    "\n",
    "Multiply each genre based on a fixed weight to reflect its importance in text-based similarity calculations."
   ],
   "id": "f5a491bc96c1bd08"
  },
  {
   "metadata": {
    "ExecuteTime": {
     "end_time": "2025-06-15T16:56:14.174060Z",
     "start_time": "2025-06-15T16:56:14.169944Z"
    }
   },
   "cell_type": "code",
   "source": [
    "def create_weighted_genres(genres_string: str | None, weight: int) -> str:\n",
    "    \"\"\"Generates a space-separated string of genres repeated `weight` times.\n",
    "\n",
    "    Cleans the input by removing hyphens and handles empty or missing input safely.\n",
    "\n",
    "    Args:\n",
    "        genres_string (str | None):\n",
    "            A string containing genres separated by \"|\", like \"Action|Sci-Fi|Drama\".\n",
    "        weight (int):\n",
    "            How many times to repeat the genres.\n",
    "\n",
    "    Returns:\n",
    "        str:\n",
    "            A weighted and cleaned genre string.\n",
    "            For example, \"Action SciFi Drama Action SciFi Drama ...\".\n",
    "    \"\"\"\n",
    "\n",
    "    if not isinstance(genres_string, str) or not genres_string.strip():\n",
    "        return \"\"\n",
    "\n",
    "    processed_genres = [\n",
    "        genre.replace(\"-\", \"\") for genre in genres_string.split(\"|\") if genre.strip()\n",
    "    ]\n",
    "\n",
    "    return (\" \".join(processed_genres) + \" \") * weight"
   ],
   "id": "174deabd030647c8",
   "outputs": [],
   "execution_count": 36
  },
  {
   "metadata": {
    "ExecuteTime": {
     "end_time": "2025-06-15T16:56:14.316535Z",
     "start_time": "2025-06-15T16:56:14.303952Z"
    }
   },
   "cell_type": "code",
   "source": [
    "GENRE_WEIGHT = 3\n",
    "\n",
    "\n",
    "movies_df[\"genres_weighted\"] = (\n",
    "    movies_df[\"genres\"]\n",
    "    .apply(lambda x: create_weighted_genres(x, GENRE_WEIGHT))\n",
    "    .str.strip()\n",
    ")"
   ],
   "id": "565d0929e344037d",
   "outputs": [],
   "execution_count": 37
  },
  {
   "metadata": {
    "ExecuteTime": {
     "end_time": "2025-06-15T16:56:14.451457Z",
     "start_time": "2025-06-15T16:56:14.444038Z"
    }
   },
   "cell_type": "code",
   "source": "movies_df.head()",
   "id": "a952c893ab9846e8",
   "outputs": [
    {
     "data": {
      "text/plain": [
       "   movieId                             title  \\\n",
       "0        1                    Toy Story 1995   \n",
       "1        2                      Jumanji 1995   \n",
       "2        3             Grumpier Old Men 1995   \n",
       "3        4            Waiting to Exhale 1995   \n",
       "4        5  Father of the Bride Part II 1995   \n",
       "\n",
       "                                        genres  \\\n",
       "0  Adventure|Animation|Children|Comedy|Fantasy   \n",
       "1                   Adventure|Children|Fantasy   \n",
       "2                               Comedy|Romance   \n",
       "3                         Comedy|Drama|Romance   \n",
       "4                                       Comedy   \n",
       "\n",
       "                                      tags  tmdbId  average_rating  \\\n",
       "0                                pixar fun     862        3.920930   \n",
       "1  fantasy magic board game robin williams    8844        3.431818   \n",
       "2                                moldy old   15602        3.259615   \n",
       "3                                            31357        2.357143   \n",
       "4                         pregnancy remake   11862        3.071429   \n",
       "\n",
       "   rating_count                                    genres_weighted  \n",
       "0           215  Adventure Animation Children Comedy Fantasy Ad...  \n",
       "1           110  Adventure Children Fantasy Adventure Children ...  \n",
       "2            52       Comedy Romance Comedy Romance Comedy Romance  \n",
       "3             7  Comedy Drama Romance Comedy Drama Romance Come...  \n",
       "4            49                               Comedy Comedy Comedy  "
      ],
      "text/html": [
       "<div>\n",
       "<style scoped>\n",
       "    .dataframe tbody tr th:only-of-type {\n",
       "        vertical-align: middle;\n",
       "    }\n",
       "\n",
       "    .dataframe tbody tr th {\n",
       "        vertical-align: top;\n",
       "    }\n",
       "\n",
       "    .dataframe thead th {\n",
       "        text-align: right;\n",
       "    }\n",
       "</style>\n",
       "<table border=\"1\" class=\"dataframe\">\n",
       "  <thead>\n",
       "    <tr style=\"text-align: right;\">\n",
       "      <th></th>\n",
       "      <th>movieId</th>\n",
       "      <th>title</th>\n",
       "      <th>genres</th>\n",
       "      <th>tags</th>\n",
       "      <th>tmdbId</th>\n",
       "      <th>average_rating</th>\n",
       "      <th>rating_count</th>\n",
       "      <th>genres_weighted</th>\n",
       "    </tr>\n",
       "  </thead>\n",
       "  <tbody>\n",
       "    <tr>\n",
       "      <th>0</th>\n",
       "      <td>1</td>\n",
       "      <td>Toy Story 1995</td>\n",
       "      <td>Adventure|Animation|Children|Comedy|Fantasy</td>\n",
       "      <td>pixar fun</td>\n",
       "      <td>862</td>\n",
       "      <td>3.920930</td>\n",
       "      <td>215</td>\n",
       "      <td>Adventure Animation Children Comedy Fantasy Ad...</td>\n",
       "    </tr>\n",
       "    <tr>\n",
       "      <th>1</th>\n",
       "      <td>2</td>\n",
       "      <td>Jumanji 1995</td>\n",
       "      <td>Adventure|Children|Fantasy</td>\n",
       "      <td>fantasy magic board game robin williams</td>\n",
       "      <td>8844</td>\n",
       "      <td>3.431818</td>\n",
       "      <td>110</td>\n",
       "      <td>Adventure Children Fantasy Adventure Children ...</td>\n",
       "    </tr>\n",
       "    <tr>\n",
       "      <th>2</th>\n",
       "      <td>3</td>\n",
       "      <td>Grumpier Old Men 1995</td>\n",
       "      <td>Comedy|Romance</td>\n",
       "      <td>moldy old</td>\n",
       "      <td>15602</td>\n",
       "      <td>3.259615</td>\n",
       "      <td>52</td>\n",
       "      <td>Comedy Romance Comedy Romance Comedy Romance</td>\n",
       "    </tr>\n",
       "    <tr>\n",
       "      <th>3</th>\n",
       "      <td>4</td>\n",
       "      <td>Waiting to Exhale 1995</td>\n",
       "      <td>Comedy|Drama|Romance</td>\n",
       "      <td></td>\n",
       "      <td>31357</td>\n",
       "      <td>2.357143</td>\n",
       "      <td>7</td>\n",
       "      <td>Comedy Drama Romance Comedy Drama Romance Come...</td>\n",
       "    </tr>\n",
       "    <tr>\n",
       "      <th>4</th>\n",
       "      <td>5</td>\n",
       "      <td>Father of the Bride Part II 1995</td>\n",
       "      <td>Comedy</td>\n",
       "      <td>pregnancy remake</td>\n",
       "      <td>11862</td>\n",
       "      <td>3.071429</td>\n",
       "      <td>49</td>\n",
       "      <td>Comedy Comedy Comedy</td>\n",
       "    </tr>\n",
       "  </tbody>\n",
       "</table>\n",
       "</div>"
      ]
     },
     "execution_count": 38,
     "metadata": {},
     "output_type": "execute_result"
    }
   ],
   "execution_count": 38
  },
  {
   "metadata": {},
   "cell_type": "markdown",
   "source": [
    "### Creating Movie Profiles\n",
    "\n",
    "Merge the movie title, weighted genres, and tags into a single textual representation for each movie."
   ],
   "id": "567077b76f2d48ee"
  },
  {
   "metadata": {
    "ExecuteTime": {
     "end_time": "2025-06-15T16:56:14.554402Z",
     "start_time": "2025-06-15T16:56:14.546065Z"
    }
   },
   "cell_type": "code",
   "source": [
    "movies_df[\"movie_profile\"] = (\n",
    "    movies_df[\"title\"].fillna(\"\")\n",
    "    + \" \"\n",
    "    + movies_df[\"genres_weighted\"].fillna(\"\")\n",
    "    + \" \"\n",
    "    + movies_df[\"tags\"].fillna(\"\")\n",
    ")"
   ],
   "id": "eb3dc440d0a97d6",
   "outputs": [],
   "execution_count": 39
  },
  {
   "metadata": {
    "ExecuteTime": {
     "end_time": "2025-06-15T16:56:14.621703Z",
     "start_time": "2025-06-15T16:56:14.614567Z"
    }
   },
   "cell_type": "code",
   "source": "movies_df.head()",
   "id": "7c5bef56ea34ff6a",
   "outputs": [
    {
     "data": {
      "text/plain": [
       "   movieId                             title  \\\n",
       "0        1                    Toy Story 1995   \n",
       "1        2                      Jumanji 1995   \n",
       "2        3             Grumpier Old Men 1995   \n",
       "3        4            Waiting to Exhale 1995   \n",
       "4        5  Father of the Bride Part II 1995   \n",
       "\n",
       "                                        genres  \\\n",
       "0  Adventure|Animation|Children|Comedy|Fantasy   \n",
       "1                   Adventure|Children|Fantasy   \n",
       "2                               Comedy|Romance   \n",
       "3                         Comedy|Drama|Romance   \n",
       "4                                       Comedy   \n",
       "\n",
       "                                      tags  tmdbId  average_rating  \\\n",
       "0                                pixar fun     862        3.920930   \n",
       "1  fantasy magic board game robin williams    8844        3.431818   \n",
       "2                                moldy old   15602        3.259615   \n",
       "3                                            31357        2.357143   \n",
       "4                         pregnancy remake   11862        3.071429   \n",
       "\n",
       "   rating_count                                    genres_weighted  \\\n",
       "0           215  Adventure Animation Children Comedy Fantasy Ad...   \n",
       "1           110  Adventure Children Fantasy Adventure Children ...   \n",
       "2            52       Comedy Romance Comedy Romance Comedy Romance   \n",
       "3             7  Comedy Drama Romance Comedy Drama Romance Come...   \n",
       "4            49                               Comedy Comedy Comedy   \n",
       "\n",
       "                                       movie_profile  \n",
       "0  Toy Story 1995 Adventure Animation Children Co...  \n",
       "1  Jumanji 1995 Adventure Children Fantasy Advent...  \n",
       "2  Grumpier Old Men 1995 Comedy Romance Comedy Ro...  \n",
       "3  Waiting to Exhale 1995 Comedy Drama Romance Co...  \n",
       "4  Father of the Bride Part II 1995 Comedy Comedy...  "
      ],
      "text/html": [
       "<div>\n",
       "<style scoped>\n",
       "    .dataframe tbody tr th:only-of-type {\n",
       "        vertical-align: middle;\n",
       "    }\n",
       "\n",
       "    .dataframe tbody tr th {\n",
       "        vertical-align: top;\n",
       "    }\n",
       "\n",
       "    .dataframe thead th {\n",
       "        text-align: right;\n",
       "    }\n",
       "</style>\n",
       "<table border=\"1\" class=\"dataframe\">\n",
       "  <thead>\n",
       "    <tr style=\"text-align: right;\">\n",
       "      <th></th>\n",
       "      <th>movieId</th>\n",
       "      <th>title</th>\n",
       "      <th>genres</th>\n",
       "      <th>tags</th>\n",
       "      <th>tmdbId</th>\n",
       "      <th>average_rating</th>\n",
       "      <th>rating_count</th>\n",
       "      <th>genres_weighted</th>\n",
       "      <th>movie_profile</th>\n",
       "    </tr>\n",
       "  </thead>\n",
       "  <tbody>\n",
       "    <tr>\n",
       "      <th>0</th>\n",
       "      <td>1</td>\n",
       "      <td>Toy Story 1995</td>\n",
       "      <td>Adventure|Animation|Children|Comedy|Fantasy</td>\n",
       "      <td>pixar fun</td>\n",
       "      <td>862</td>\n",
       "      <td>3.920930</td>\n",
       "      <td>215</td>\n",
       "      <td>Adventure Animation Children Comedy Fantasy Ad...</td>\n",
       "      <td>Toy Story 1995 Adventure Animation Children Co...</td>\n",
       "    </tr>\n",
       "    <tr>\n",
       "      <th>1</th>\n",
       "      <td>2</td>\n",
       "      <td>Jumanji 1995</td>\n",
       "      <td>Adventure|Children|Fantasy</td>\n",
       "      <td>fantasy magic board game robin williams</td>\n",
       "      <td>8844</td>\n",
       "      <td>3.431818</td>\n",
       "      <td>110</td>\n",
       "      <td>Adventure Children Fantasy Adventure Children ...</td>\n",
       "      <td>Jumanji 1995 Adventure Children Fantasy Advent...</td>\n",
       "    </tr>\n",
       "    <tr>\n",
       "      <th>2</th>\n",
       "      <td>3</td>\n",
       "      <td>Grumpier Old Men 1995</td>\n",
       "      <td>Comedy|Romance</td>\n",
       "      <td>moldy old</td>\n",
       "      <td>15602</td>\n",
       "      <td>3.259615</td>\n",
       "      <td>52</td>\n",
       "      <td>Comedy Romance Comedy Romance Comedy Romance</td>\n",
       "      <td>Grumpier Old Men 1995 Comedy Romance Comedy Ro...</td>\n",
       "    </tr>\n",
       "    <tr>\n",
       "      <th>3</th>\n",
       "      <td>4</td>\n",
       "      <td>Waiting to Exhale 1995</td>\n",
       "      <td>Comedy|Drama|Romance</td>\n",
       "      <td></td>\n",
       "      <td>31357</td>\n",
       "      <td>2.357143</td>\n",
       "      <td>7</td>\n",
       "      <td>Comedy Drama Romance Comedy Drama Romance Come...</td>\n",
       "      <td>Waiting to Exhale 1995 Comedy Drama Romance Co...</td>\n",
       "    </tr>\n",
       "    <tr>\n",
       "      <th>4</th>\n",
       "      <td>5</td>\n",
       "      <td>Father of the Bride Part II 1995</td>\n",
       "      <td>Comedy</td>\n",
       "      <td>pregnancy remake</td>\n",
       "      <td>11862</td>\n",
       "      <td>3.071429</td>\n",
       "      <td>49</td>\n",
       "      <td>Comedy Comedy Comedy</td>\n",
       "      <td>Father of the Bride Part II 1995 Comedy Comedy...</td>\n",
       "    </tr>\n",
       "  </tbody>\n",
       "</table>\n",
       "</div>"
      ]
     },
     "execution_count": 40,
     "metadata": {},
     "output_type": "execute_result"
    }
   ],
   "execution_count": 40
  },
  {
   "metadata": {},
   "cell_type": "markdown",
   "source": [
    "## Feature Extraction and Similarity Computation\n",
    "\n",
    "Use TF-IDF vectorization and cosine similarity to create a numerical representation of movies based on textual metadata and measure their similarity."
   ],
   "id": "28c839c2af9cac48"
  },
  {
   "metadata": {},
   "cell_type": "markdown",
   "source": [
    "### Vectorizing Movie Metadata with TF-IDF\n",
    "\n",
    "Transform the textual movie profiles into numerical feature vectors using the TF-IDF algorithm, considering unigrams and bigrams."
   ],
   "id": "85f7266e4e31c6d1"
  },
  {
   "metadata": {
    "ExecuteTime": {
     "end_time": "2025-06-15T16:56:16.247984Z",
     "start_time": "2025-06-15T16:56:14.753247Z"
    }
   },
   "cell_type": "code",
   "source": [
    "from sklearn.feature_extraction.text import TfidfVectorizer\n",
    "\n",
    "\n",
    "tfidf_vectorizer = TfidfVectorizer(ngram_range=(1, 2), min_df=3)\n",
    "tfidf_matrix = tfidf_vectorizer.fit_transform(movies_df[\"movie_profile\"])"
   ],
   "id": "7554e3ab6c7d4239",
   "outputs": [],
   "execution_count": 41
  },
  {
   "metadata": {
    "ExecuteTime": {
     "end_time": "2025-06-15T16:56:16.293282Z",
     "start_time": "2025-06-15T16:56:16.290400Z"
    }
   },
   "cell_type": "code",
   "source": "tfidf_matrix.shape",
   "id": "36e090f0e60e3260",
   "outputs": [
    {
     "data": {
      "text/plain": [
       "(9734, 4455)"
      ]
     },
     "execution_count": 42,
     "metadata": {},
     "output_type": "execute_result"
    }
   ],
   "execution_count": 42
  },
  {
   "metadata": {},
   "cell_type": "markdown",
   "source": [
    "### Computing Cosine Similarity\n",
    "\n",
    "Compute the pairwise cosine similarity between all movie vectors to quantify how similar the movies are to one another."
   ],
   "id": "e9bdda956822c906"
  },
  {
   "metadata": {
    "ExecuteTime": {
     "end_time": "2025-06-15T16:56:17.469475Z",
     "start_time": "2025-06-15T16:56:16.347558Z"
    }
   },
   "cell_type": "code",
   "source": [
    "from sklearn.metrics.pairwise import cosine_similarity\n",
    "\n",
    "\n",
    "cosine_sim = cosine_similarity(tfidf_matrix, tfidf_matrix)"
   ],
   "id": "6c83e0cfd7634c8c",
   "outputs": [],
   "execution_count": 43
  },
  {
   "metadata": {
    "ExecuteTime": {
     "end_time": "2025-06-15T16:56:17.490616Z",
     "start_time": "2025-06-15T16:56:17.487824Z"
    }
   },
   "cell_type": "code",
   "source": "cosine_sim.shape",
   "id": "993be5e927f8a7f5",
   "outputs": [
    {
     "data": {
      "text/plain": [
       "(9734, 9734)"
      ]
     },
     "execution_count": 44,
     "metadata": {},
     "output_type": "execute_result"
    }
   ],
   "execution_count": 44
  },
  {
   "metadata": {},
   "cell_type": "markdown",
   "source": [
    "### Indexing Movie Titles\n",
    "\n",
    "Create a mapping from movie titles to DataFrame indices to allow quick lookup when generating recommendations."
   ],
   "id": "2c49ae64aa70bd1b"
  },
  {
   "metadata": {
    "ExecuteTime": {
     "end_time": "2025-06-15T16:56:17.554121Z",
     "start_time": "2025-06-15T16:56:17.551101Z"
    }
   },
   "cell_type": "code",
   "source": "movie_id_to_index = pd.Series(movies_df.index.values, index=movies_df[\"movieId\"])",
   "id": "191e090294fce9a1",
   "outputs": [],
   "execution_count": 45
  },
  {
   "metadata": {
    "ExecuteTime": {
     "end_time": "2025-06-15T16:56:17.645294Z",
     "start_time": "2025-06-15T16:56:17.640991Z"
    }
   },
   "cell_type": "code",
   "source": "movie_id_to_index.head()",
   "id": "3a8ceb496ff2a18a",
   "outputs": [
    {
     "data": {
      "text/plain": [
       "movieId\n",
       "1    0\n",
       "2    1\n",
       "3    2\n",
       "4    3\n",
       "5    4\n",
       "dtype: int64"
      ]
     },
     "execution_count": 46,
     "metadata": {},
     "output_type": "execute_result"
    }
   ],
   "execution_count": 46
  },
  {
   "metadata": {},
   "cell_type": "markdown",
   "source": "## Recommendation System",
   "id": "873256e4687a8ed8"
  },
  {
   "metadata": {},
   "cell_type": "markdown",
   "source": [
    "### Retrieving Movie Title by ID\n",
    "\n",
    "Provides a helper function to find a movie's title based on its unique movie ID."
   ],
   "id": "bf9b5c5c71111cb1"
  },
  {
   "metadata": {
    "ExecuteTime": {
     "end_time": "2025-06-15T16:56:17.729434Z",
     "start_time": "2025-06-15T16:56:17.726846Z"
    }
   },
   "cell_type": "code",
   "source": [
    "def get_movie_title_by_id(movie_id: int, movies_dataframe: pd.DataFrame) -> str | None:\n",
    "    \"\"\"Retrieves the title of a movie by its movieId.\n",
    "\n",
    "    Args:\n",
    "        movie_id (int):\n",
    "            The ID of the movie.\n",
    "        movies_dataframe (pd.DataFrame):\n",
    "            The dataframe containing movie information.\n",
    "\n",
    "    Returns:\n",
    "        str | None:\n",
    "            The movie title if found, else None.\n",
    "            For example, \"Toy Story 1995\"\n",
    "    \"\"\"\n",
    "\n",
    "    movie = movies_dataframe.loc[movies_dataframe[\"movieId\"] == movie_id, \"title\"]\n",
    "\n",
    "    if movie.empty:\n",
    "        return None\n",
    "\n",
    "    return movie.iloc[0]"
   ],
   "id": "59b886b11d2392f0",
   "outputs": [],
   "execution_count": 47
  },
  {
   "metadata": {},
   "cell_type": "markdown",
   "source": [
    "### Generating Movie Recommendations\n",
    "\n",
    "Core recommendation function that finds movies similar to a specified title, applying filters on genres, tags, and rating thresholds to improve relevance."
   ],
   "id": "b7655907d4d19223"
  },
  {
   "metadata": {
    "ExecuteTime": {
     "end_time": "2025-06-15T16:56:17.799541Z",
     "start_time": "2025-06-15T16:56:17.793409Z"
    }
   },
   "cell_type": "code",
   "source": [
    "import numpy as np\n",
    "\n",
    "\n",
    "def find_movie_recommendations(\n",
    "    movie_id: int,\n",
    "    movie_index_map: pd.Series,\n",
    "    movies_dataframe: pd.DataFrame,\n",
    "    similarity_matrix: np.ndarray,\n",
    "    n_recommendations: int = 10,\n",
    "    target_genres: list[str] = None,\n",
    "    target_tags: list[str] = None,\n",
    "    min_rating_count: int = 50,\n",
    ") -> pd.DataFrame:\n",
    "    \"\"\"Recommends movies similar to the given movie based on cosine similarity.\n",
    "\n",
    "    The function uses a precomputed cosine similarity matrix to find movies most\n",
    "    similar to the one specified by `movie_id`. Results can be filtered by genre,\n",
    "    tag, and minimum number of ratings.\n",
    "\n",
    "    Args:\n",
    "        movie_id (int):\n",
    "            The ID of the movie to find recommendations for.\n",
    "        movie_index_map (pd.Series):\n",
    "            A mapping from movieId to the corresponding row index in the similarity matrix and movies DataFrame.\n",
    "        movies_dataframe (pd.DataFrame):\n",
    "            The DataFrame containing movie metadata, such as title, genres, tags, average ratings, and rating count.\n",
    "        similarity_matrix (np.ndarray):\n",
    "            Matrix of cosine similarity scores between movies.\n",
    "        n_recommendations (int | None):\n",
    "            Number of recommendations to return.\n",
    "            Defaults to 10.\n",
    "        target_genres (list[str] | None):\n",
    "            List of genres to filter recommendations by.\n",
    "            If provided, only movies that share at least one of the specified genres will be returned.\n",
    "        target_tags (list[str] | None):\n",
    "            List of tags to filter recommendations by.\n",
    "            If provided, only movies that share at least one of the specified tags will be returned.\n",
    "        min_rating_count (int | None):\n",
    "            Minimum number of ratings a recommended movie must have.\n",
    "            This helps filter out obscure movies with unreliable averages.\n",
    "            Defaults to 50.\n",
    "\n",
    "    Returns:\n",
    "        pd.DataFrame:\n",
    "            A DataFrame containing recommended movies.\n",
    "    \"\"\"\n",
    "\n",
    "    if movie_id not in movie_index_map:\n",
    "        raise ValueError(f\"Movie ID {movie_id} not found in the dataset.\")\n",
    "\n",
    "    recommendations = []\n",
    "\n",
    "    target_genres_lower = (\n",
    "        [genre.strip().lower() for genre in target_genres] if target_genres else []\n",
    "    )\n",
    "    target_tags_lower = (\n",
    "        [tag.strip().lower() for tag in target_tags] if target_tags else []\n",
    "    )\n",
    "\n",
    "    movie_index = movie_index_map[movie_id]\n",
    "\n",
    "    similarity_scores = list(enumerate(similarity_matrix[movie_index]))\n",
    "    similarity_scores = sorted(similarity_scores, key=lambda x: x[1], reverse=True)[\n",
    "        1:\n",
    "    ]  # Remove the first row, as it always is the movie provided by the user.\n",
    "\n",
    "    for similar_movie_index, similarity_score in similarity_scores:\n",
    "        movie = movies_dataframe.iloc[similar_movie_index].copy()\n",
    "\n",
    "        genres = (\n",
    "            [genre.strip().lower() for genre in movie[\"genres\"].split(\"|\") if genre]\n",
    "            if pd.notna(movie[\"genres\"])\n",
    "            else []\n",
    "        )\n",
    "\n",
    "        tags = (\n",
    "            [tag.strip().lower() for tag in movie[\"tags\"].split() if tag]\n",
    "            if pd.notna(movie[\"tags\"])\n",
    "            else []\n",
    "        )\n",
    "\n",
    "        if target_genres_lower and not any(\n",
    "            genre in genres for genre in target_genres_lower\n",
    "        ):\n",
    "            continue\n",
    "        if target_tags_lower and not any(tag in tags for tag in target_tags_lower):\n",
    "            continue\n",
    "        if movie[\"rating_count\"] < min_rating_count:\n",
    "            continue\n",
    "\n",
    "        movie[\"similarity_score\"] = similarity_score\n",
    "        recommendations.append(movie)\n",
    "\n",
    "        if len(recommendations) >= n_recommendations:\n",
    "            break\n",
    "\n",
    "    if not recommendations:\n",
    "        raise LookupError(f\"No recommendations found for movie ID {movie_id}.\")\n",
    "\n",
    "    recommendations_df = pd.DataFrame(recommendations).sort_values(\n",
    "        by=[\"similarity_score\", \"average_rating\"], ascending=[False, False]\n",
    "    )\n",
    "\n",
    "    return recommendations_df"
   ],
   "id": "7617209c2c1eb9f4",
   "outputs": [],
   "execution_count": 48
  },
  {
   "metadata": {},
   "cell_type": "markdown",
   "source": [
    "### Example Usage\n",
    "\n",
    "This example demonstrates how to retrieve the movie title for a given `movieId` (only for reference), and how to generate recommendations based on that movie ID."
   ],
   "id": "60417f9b4e0e1987"
  },
  {
   "metadata": {
    "ExecuteTime": {
     "end_time": "2025-06-15T16:56:17.885525Z",
     "start_time": "2025-06-15T16:56:17.882177Z"
    }
   },
   "cell_type": "code",
   "source": [
    "sample_movie_title = get_movie_title_by_id(296, movies_df)\n",
    "sample_movie_title"
   ],
   "id": "a44a14b4c19f6151",
   "outputs": [
    {
     "data": {
      "text/plain": [
       "'Pulp Fiction 1994'"
      ]
     },
     "execution_count": 49,
     "metadata": {},
     "output_type": "execute_result"
    }
   ],
   "execution_count": 49
  },
  {
   "metadata": {
    "ExecuteTime": {
     "end_time": "2025-06-15T16:56:27.876421Z",
     "start_time": "2025-06-15T16:56:27.844263Z"
    }
   },
   "cell_type": "code",
   "source": [
    "movie_recommendations = find_movie_recommendations(\n",
    "    296, movie_id_to_index, movies_df, cosine_sim\n",
    ")\n",
    "movie_recommendations"
   ],
   "id": "9295468c9d559d9",
   "outputs": [
    {
     "data": {
      "text/plain": [
       "      movieId                                              title  \\\n",
       "1296     1732                             Big Lebowski, The 1998   \n",
       "254       293  Léon: The Professional a.k.a. The Professional...   \n",
       "2223     2959                                    Fight Club 1999   \n",
       "118       145                                      Bad Boys 1995   \n",
       "520       608                                         Fargo 1996   \n",
       "827      1089                                Reservoir Dogs 1992   \n",
       "1685     2268                               Few Good Men, A 1992   \n",
       "2993     4011                                        Snatch 2000   \n",
       "3491     4776                                  Training Day 2001   \n",
       "1915     2542             Lock, Stock & Two Smoking Barrels 1998   \n",
       "\n",
       "                                  genres  \\\n",
       "1296                        Comedy|Crime   \n",
       "254          Action|Crime|Drama|Thriller   \n",
       "2223         Action|Crime|Drama|Thriller   \n",
       "118   Action|Comedy|Crime|Drama|Thriller   \n",
       "520          Comedy|Crime|Drama|Thriller   \n",
       "827               Crime|Mystery|Thriller   \n",
       "1685                Crime|Drama|Thriller   \n",
       "2993               Comedy|Crime|Thriller   \n",
       "3491                Crime|Drama|Thriller   \n",
       "1915               Comedy|Crime|Thriller   \n",
       "\n",
       "                                                   tags  tmdbId  \\\n",
       "1296  coen brothers black comedy bowling classic cri...     115   \n",
       "254   assassin jean reno hit men action assassinatio...     101   \n",
       "2223  dark comedy psychology thought-provoking twist...     550   \n",
       "118                                                        9737   \n",
       "520   based on a true story dark comedy kidnapping s...     275   \n",
       "827   ensemble cast nonlinear quentin tarantino styl...     500   \n",
       "1685                                     court military     881   \n",
       "2993                                                        107   \n",
       "3491                                                       2034   \n",
       "1915                                                        100   \n",
       "\n",
       "      average_rating  rating_count  \\\n",
       "1296        3.924528           106   \n",
       "254         4.018797           133   \n",
       "2223        4.272936           218   \n",
       "118         3.245098            51   \n",
       "520         4.116022           181   \n",
       "827         4.202290           131   \n",
       "1685        3.789474            57   \n",
       "2993        4.155914            93   \n",
       "3491        3.794118            51   \n",
       "1915        4.052239            67   \n",
       "\n",
       "                                        genres_weighted  \\\n",
       "1296             Comedy Crime Comedy Crime Comedy Crime   \n",
       "254   Action Crime Drama Thriller Action Crime Drama...   \n",
       "2223  Action Crime Drama Thriller Action Crime Drama...   \n",
       "118   Action Comedy Crime Drama Thriller Action Come...   \n",
       "520   Comedy Crime Drama Thriller Comedy Crime Drama...   \n",
       "827   Crime Mystery Thriller Crime Mystery Thriller ...   \n",
       "1685  Crime Drama Thriller Crime Drama Thriller Crim...   \n",
       "2993  Comedy Crime Thriller Comedy Crime Thriller Co...   \n",
       "3491  Crime Drama Thriller Crime Drama Thriller Crim...   \n",
       "1915  Comedy Crime Thriller Comedy Crime Thriller Co...   \n",
       "\n",
       "                                          movie_profile  similarity_score  \n",
       "1296  Big Lebowski, The 1998 Comedy Crime Comedy Cri...          0.358135  \n",
       "254   Léon: The Professional a.k.a. The Professional...          0.275736  \n",
       "2223  Fight Club 1999 Action Crime Drama Thriller Ac...          0.264783  \n",
       "118   Bad Boys 1995 Action Comedy Crime Drama Thrill...          0.241423  \n",
       "520   Fargo 1996 Comedy Crime Drama Thriller Comedy ...          0.239507  \n",
       "827   Reservoir Dogs 1992 Crime Mystery Thriller Cri...          0.205558  \n",
       "1685  Few Good Men, A 1992 Crime Drama Thriller Crim...          0.181466  \n",
       "2993  Snatch 2000 Comedy Crime Thriller Comedy Crime...          0.179681  \n",
       "3491  Training Day 2001 Crime Drama Thriller Crime D...          0.175481  \n",
       "1915  Lock, Stock & Two Smoking Barrels 1998 Comedy ...          0.174416  "
      ],
      "text/html": [
       "<div>\n",
       "<style scoped>\n",
       "    .dataframe tbody tr th:only-of-type {\n",
       "        vertical-align: middle;\n",
       "    }\n",
       "\n",
       "    .dataframe tbody tr th {\n",
       "        vertical-align: top;\n",
       "    }\n",
       "\n",
       "    .dataframe thead th {\n",
       "        text-align: right;\n",
       "    }\n",
       "</style>\n",
       "<table border=\"1\" class=\"dataframe\">\n",
       "  <thead>\n",
       "    <tr style=\"text-align: right;\">\n",
       "      <th></th>\n",
       "      <th>movieId</th>\n",
       "      <th>title</th>\n",
       "      <th>genres</th>\n",
       "      <th>tags</th>\n",
       "      <th>tmdbId</th>\n",
       "      <th>average_rating</th>\n",
       "      <th>rating_count</th>\n",
       "      <th>genres_weighted</th>\n",
       "      <th>movie_profile</th>\n",
       "      <th>similarity_score</th>\n",
       "    </tr>\n",
       "  </thead>\n",
       "  <tbody>\n",
       "    <tr>\n",
       "      <th>1296</th>\n",
       "      <td>1732</td>\n",
       "      <td>Big Lebowski, The 1998</td>\n",
       "      <td>Comedy|Crime</td>\n",
       "      <td>coen brothers black comedy bowling classic cri...</td>\n",
       "      <td>115</td>\n",
       "      <td>3.924528</td>\n",
       "      <td>106</td>\n",
       "      <td>Comedy Crime Comedy Crime Comedy Crime</td>\n",
       "      <td>Big Lebowski, The 1998 Comedy Crime Comedy Cri...</td>\n",
       "      <td>0.358135</td>\n",
       "    </tr>\n",
       "    <tr>\n",
       "      <th>254</th>\n",
       "      <td>293</td>\n",
       "      <td>Léon: The Professional a.k.a. The Professional...</td>\n",
       "      <td>Action|Crime|Drama|Thriller</td>\n",
       "      <td>assassin jean reno hit men action assassinatio...</td>\n",
       "      <td>101</td>\n",
       "      <td>4.018797</td>\n",
       "      <td>133</td>\n",
       "      <td>Action Crime Drama Thriller Action Crime Drama...</td>\n",
       "      <td>Léon: The Professional a.k.a. The Professional...</td>\n",
       "      <td>0.275736</td>\n",
       "    </tr>\n",
       "    <tr>\n",
       "      <th>2223</th>\n",
       "      <td>2959</td>\n",
       "      <td>Fight Club 1999</td>\n",
       "      <td>Action|Crime|Drama|Thriller</td>\n",
       "      <td>dark comedy psychology thought-provoking twist...</td>\n",
       "      <td>550</td>\n",
       "      <td>4.272936</td>\n",
       "      <td>218</td>\n",
       "      <td>Action Crime Drama Thriller Action Crime Drama...</td>\n",
       "      <td>Fight Club 1999 Action Crime Drama Thriller Ac...</td>\n",
       "      <td>0.264783</td>\n",
       "    </tr>\n",
       "    <tr>\n",
       "      <th>118</th>\n",
       "      <td>145</td>\n",
       "      <td>Bad Boys 1995</td>\n",
       "      <td>Action|Comedy|Crime|Drama|Thriller</td>\n",
       "      <td></td>\n",
       "      <td>9737</td>\n",
       "      <td>3.245098</td>\n",
       "      <td>51</td>\n",
       "      <td>Action Comedy Crime Drama Thriller Action Come...</td>\n",
       "      <td>Bad Boys 1995 Action Comedy Crime Drama Thrill...</td>\n",
       "      <td>0.241423</td>\n",
       "    </tr>\n",
       "    <tr>\n",
       "      <th>520</th>\n",
       "      <td>608</td>\n",
       "      <td>Fargo 1996</td>\n",
       "      <td>Comedy|Crime|Drama|Thriller</td>\n",
       "      <td>based on a true story dark comedy kidnapping s...</td>\n",
       "      <td>275</td>\n",
       "      <td>4.116022</td>\n",
       "      <td>181</td>\n",
       "      <td>Comedy Crime Drama Thriller Comedy Crime Drama...</td>\n",
       "      <td>Fargo 1996 Comedy Crime Drama Thriller Comedy ...</td>\n",
       "      <td>0.239507</td>\n",
       "    </tr>\n",
       "    <tr>\n",
       "      <th>827</th>\n",
       "      <td>1089</td>\n",
       "      <td>Reservoir Dogs 1992</td>\n",
       "      <td>Crime|Mystery|Thriller</td>\n",
       "      <td>ensemble cast nonlinear quentin tarantino styl...</td>\n",
       "      <td>500</td>\n",
       "      <td>4.202290</td>\n",
       "      <td>131</td>\n",
       "      <td>Crime Mystery Thriller Crime Mystery Thriller ...</td>\n",
       "      <td>Reservoir Dogs 1992 Crime Mystery Thriller Cri...</td>\n",
       "      <td>0.205558</td>\n",
       "    </tr>\n",
       "    <tr>\n",
       "      <th>1685</th>\n",
       "      <td>2268</td>\n",
       "      <td>Few Good Men, A 1992</td>\n",
       "      <td>Crime|Drama|Thriller</td>\n",
       "      <td>court military</td>\n",
       "      <td>881</td>\n",
       "      <td>3.789474</td>\n",
       "      <td>57</td>\n",
       "      <td>Crime Drama Thriller Crime Drama Thriller Crim...</td>\n",
       "      <td>Few Good Men, A 1992 Crime Drama Thriller Crim...</td>\n",
       "      <td>0.181466</td>\n",
       "    </tr>\n",
       "    <tr>\n",
       "      <th>2993</th>\n",
       "      <td>4011</td>\n",
       "      <td>Snatch 2000</td>\n",
       "      <td>Comedy|Crime|Thriller</td>\n",
       "      <td></td>\n",
       "      <td>107</td>\n",
       "      <td>4.155914</td>\n",
       "      <td>93</td>\n",
       "      <td>Comedy Crime Thriller Comedy Crime Thriller Co...</td>\n",
       "      <td>Snatch 2000 Comedy Crime Thriller Comedy Crime...</td>\n",
       "      <td>0.179681</td>\n",
       "    </tr>\n",
       "    <tr>\n",
       "      <th>3491</th>\n",
       "      <td>4776</td>\n",
       "      <td>Training Day 2001</td>\n",
       "      <td>Crime|Drama|Thriller</td>\n",
       "      <td></td>\n",
       "      <td>2034</td>\n",
       "      <td>3.794118</td>\n",
       "      <td>51</td>\n",
       "      <td>Crime Drama Thriller Crime Drama Thriller Crim...</td>\n",
       "      <td>Training Day 2001 Crime Drama Thriller Crime D...</td>\n",
       "      <td>0.175481</td>\n",
       "    </tr>\n",
       "    <tr>\n",
       "      <th>1915</th>\n",
       "      <td>2542</td>\n",
       "      <td>Lock, Stock &amp; Two Smoking Barrels 1998</td>\n",
       "      <td>Comedy|Crime|Thriller</td>\n",
       "      <td></td>\n",
       "      <td>100</td>\n",
       "      <td>4.052239</td>\n",
       "      <td>67</td>\n",
       "      <td>Comedy Crime Thriller Comedy Crime Thriller Co...</td>\n",
       "      <td>Lock, Stock &amp; Two Smoking Barrels 1998 Comedy ...</td>\n",
       "      <td>0.174416</td>\n",
       "    </tr>\n",
       "  </tbody>\n",
       "</table>\n",
       "</div>"
      ]
     },
     "execution_count": 51,
     "metadata": {},
     "output_type": "execute_result"
    }
   ],
   "execution_count": 51
  }
 ],
 "metadata": {
  "kernelspec": {
   "display_name": "Python 3",
   "language": "python",
   "name": "python3"
  },
  "language_info": {
   "codemirror_mode": {
    "name": "ipython",
    "version": 2
   },
   "file_extension": ".py",
   "mimetype": "text/x-python",
   "name": "python",
   "nbconvert_exporter": "python",
   "pygments_lexer": "ipython2",
   "version": "2.7.6"
  }
 },
 "nbformat": 4,
 "nbformat_minor": 5
}
